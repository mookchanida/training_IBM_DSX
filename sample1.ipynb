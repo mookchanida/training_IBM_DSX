{
    "nbformat": 4, 
    "metadata": {
        "language_info": {
            "pygments_lexer": "ipython2", 
            "version": "2.7.11", 
            "nbconvert_exporter": "python", 
            "mimetype": "text/x-python", 
            "codemirror_mode": {
                "version": 2, 
                "name": "ipython"
            }, 
            "file_extension": ".py", 
            "name": "python"
        }, 
        "kernelspec": {
            "language": "python", 
            "name": "python2-spark20", 
            "display_name": "Python 2 with Spark 2.0"
        }
    }, 
    "cells": [
        {
            "source": "print \"Hello World\"", 
            "metadata": {}, 
            "execution_count": 2, 
            "outputs": [
                {
                    "name": "stdout", 
                    "output_type": "stream", 
                    "text": "Hello World\n"
                }
            ], 
            "cell_type": "code"
        }, 
        {
            "source": "print \"sunny\"", 
            "metadata": {}, 
            "execution_count": 3, 
            "outputs": [
                {
                    "name": "stdout", 
                    "output_type": "stream", 
                    "text": "sunny\n"
                }
            ], 
            "cell_type": "code"
        }, 
        {
            "source": "", 
            "metadata": {
                "collapsed": true
            }, 
            "execution_count": null, 
            "outputs": [], 
            "cell_type": "code"
        }
    ], 
    "nbformat_minor": 1
}