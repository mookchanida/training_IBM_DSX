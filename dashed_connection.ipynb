{
    "metadata": {
        "language_info": {
            "name": "python", 
            "file_extension": ".py", 
            "pygments_lexer": "ipython2", 
            "nbconvert_exporter": "python", 
            "mimetype": "text/x-python", 
            "codemirror_mode": {
                "name": "ipython", 
                "version": 2
            }, 
            "version": "2.7.11"
        }, 
        "kernelspec": {
            "name": "python2-spark20", 
            "language": "python", 
            "display_name": "Python 2 with Spark 2.0"
        }
    }, 
    "nbformat": 4, 
    "nbformat_minor": 1, 
    "cells": [
        {
            "metadata": {
                "collapsed": true
            }, 
            "source": "%matplotlib inline", 
            "outputs": [], 
            "execution_count": 24, 
            "cell_type": "code"
        }, 
        {
            "metadata": {}, 
            "source": "# The code was removed by DSX for sharing.", 
            "outputs": [
                {
                    "output_type": "execute_result", 
                    "execution_count": 16, 
                    "metadata": {}, 
                    "data": {
                        "text/plain": "Empty DataFrame\nColumns: [COL1, COL2]\nIndex: []", 
                        "text/html": "<div>\n<table border=\"1\" class=\"dataframe\">\n  <thead>\n    <tr style=\"text-align: right;\">\n      <th></th>\n      <th>COL1</th>\n      <th>COL2</th>\n    </tr>\n  </thead>\n  <tbody>\n  </tbody>\n</table>\n</div>"
                    }
                }
            ], 
            "execution_count": 16, 
            "cell_type": "code"
        }, 
        {
            "metadata": {}, 
            "source": "random_data = pd.DataFrame(np.random.random((1000,3)), columns=['A','B','C'])\nrandom_data.head(5)", 
            "outputs": [
                {
                    "output_type": "execute_result", 
                    "execution_count": 14, 
                    "metadata": {}, 
                    "data": {
                        "text/plain": "          A         B         C\n0  0.433011  0.498503  0.498829\n1  0.166369  0.185811  0.308628\n2  0.486646  0.582023  0.278548\n3  0.904139  0.756034  0.832756\n4  0.166445  0.343735  0.813310", 
                        "text/html": "<div>\n<table border=\"1\" class=\"dataframe\">\n  <thead>\n    <tr style=\"text-align: right;\">\n      <th></th>\n      <th>A</th>\n      <th>B</th>\n      <th>C</th>\n    </tr>\n  </thead>\n  <tbody>\n    <tr>\n      <th>0</th>\n      <td>0.433011</td>\n      <td>0.498503</td>\n      <td>0.498829</td>\n    </tr>\n    <tr>\n      <th>1</th>\n      <td>0.166369</td>\n      <td>0.185811</td>\n      <td>0.308628</td>\n    </tr>\n    <tr>\n      <th>2</th>\n      <td>0.486646</td>\n      <td>0.582023</td>\n      <td>0.278548</td>\n    </tr>\n    <tr>\n      <th>3</th>\n      <td>0.904139</td>\n      <td>0.756034</td>\n      <td>0.832756</td>\n    </tr>\n    <tr>\n      <th>4</th>\n      <td>0.166445</td>\n      <td>0.343735</td>\n      <td>0.813310</td>\n    </tr>\n  </tbody>\n</table>\n</div>"
                    }
                }
            ], 
            "execution_count": 14, 
            "cell_type": "code"
        }, 
        {
            "metadata": {}, 
            "source": "idadb_6a4fc5234ac24b51a67dd1472f223418.as_idadataframe(random_data, 'RANDOM_DATA', clear_existing=True)", 
            "outputs": [
                {
                    "name": "stdout", 
                    "output_type": "stream", 
                    "text": "Uploading 1000 rows (maxnrow was set to 2666)\n"
                }, 
                {
                    "output_type": "execute_result", 
                    "execution_count": 15, 
                    "metadata": {}, 
                    "data": {
                        "text/plain": "<ibmdbpy.frame.IdaDataFrame at 0x7f04c8500190>"
                    }
                }
            ], 
            "execution_count": 15, 
            "cell_type": "code"
        }, 
        {
            "metadata": {}, 
            "source": "# The code was removed by DSX for sharing.", 
            "outputs": [
                {
                    "output_type": "execute_result", 
                    "execution_count": 17, 
                    "metadata": {}, 
                    "data": {
                        "text/plain": "          A         B         C\n0  0.433011  0.498503  0.498829\n1  0.166369  0.185811  0.308628\n2  0.486646  0.582023  0.278548\n3  0.904139  0.756034  0.832756\n4  0.166445  0.343735  0.813310", 
                        "text/html": "<div>\n<table border=\"1\" class=\"dataframe\">\n  <thead>\n    <tr style=\"text-align: right;\">\n      <th></th>\n      <th>A</th>\n      <th>B</th>\n      <th>C</th>\n    </tr>\n  </thead>\n  <tbody>\n    <tr>\n      <th>0</th>\n      <td>0.433011</td>\n      <td>0.498503</td>\n      <td>0.498829</td>\n    </tr>\n    <tr>\n      <th>1</th>\n      <td>0.166369</td>\n      <td>0.185811</td>\n      <td>0.308628</td>\n    </tr>\n    <tr>\n      <th>2</th>\n      <td>0.486646</td>\n      <td>0.582023</td>\n      <td>0.278548</td>\n    </tr>\n    <tr>\n      <th>3</th>\n      <td>0.904139</td>\n      <td>0.756034</td>\n      <td>0.832756</td>\n    </tr>\n    <tr>\n      <th>4</th>\n      <td>0.166445</td>\n      <td>0.343735</td>\n      <td>0.813310</td>\n    </tr>\n  </tbody>\n</table>\n</div>"
                    }
                }
            ], 
            "execution_count": 17, 
            "cell_type": "code"
        }, 
        {
            "metadata": {}, 
            "source": "!ls -la ../../", 
            "outputs": [
                {
                    "name": "stdout", 
                    "output_type": "stream", 
                    "text": "total 12288\r\ndrwx------    11 s7a2-2d146d758efeca-882a84bec5a6 users    4096 Jul  5 04:17 .\r\ndrwx--x--x 37090 root                             root  4194304 Jul  5 04:17 ..\r\ndrwx------     4 s7a2-2d146d758efeca-882a84bec5a6 users    4096 Jul  5 04:17 .cache\r\ndrwx------     3 s7a2-2d146d758efeca-882a84bec5a6 users    4096 Jul  5 03:14 .config\r\ndrwx------     6 s7a2-2d146d758efeca-882a84bec5a6 users    4096 Jul  3 06:10 data\r\ndrwx------     2 s7a2-2d146d758efeca-882a84bec5a6 users    4096 Jul  5 04:16 events\r\ndrwx------     5 s7a2-2d146d758efeca-882a84bec5a6 users    4096 Jul  5 01:53 .ipython\r\ndrwx------     3 s7a2-2d146d758efeca-882a84bec5a6 users    4096 Jul  5 01:53 .local\r\ndrwx------     2 s7a2-2d146d758efeca-882a84bec5a6 users    4096 Jul  5 01:53 .log-links\r\ndrwx------     3 s7a2-2d146d758efeca-882a84bec5a6 users    4096 Jul  5 03:15 logs\r\ndrwx------    11 s7a2-2d146d758efeca-882a84bec5a6 users    4096 Jul  5 01:53 notebook\r\n-rw-------     1 s7a2-2d146d758efeca-882a84bec5a6 users       0 Jul  5 03:14 .odbc.ini\r\n-rw-r--r--     1 s7a2-2d146d758efeca-882a84bec5a6 users       0 Jul  5 01:53 stderr.log\r\n-rw-r--r--     1 s7a2-2d146d758efeca-882a84bec5a6 users     105 Jul  5 01:53 stdout.log\r\n"
                }
            ], 
            "execution_count": 21, 
            "cell_type": "code"
        }, 
        {
            "metadata": {}, 
            "source": "!pip install seaborn", 
            "outputs": [
                {
                    "name": "stdout", 
                    "output_type": "stream", 
                    "text": "Collecting seaborn\n  Downloading seaborn-0.7.1.tar.gz (158kB)\n\u001b[K    100% |\u2588\u2588\u2588\u2588\u2588\u2588\u2588\u2588\u2588\u2588\u2588\u2588\u2588\u2588\u2588\u2588\u2588\u2588\u2588\u2588\u2588\u2588\u2588\u2588\u2588\u2588\u2588\u2588\u2588\u2588\u2588\u2588| 163kB 4.3MB/s eta 0:00:01\n\u001b[?25hBuilding wheels for collected packages: seaborn\n  Running setup.py bdist_wheel for seaborn ... \u001b[?25ldone\n\u001b[?25h  Stored in directory: /gpfs/fs01/user/s7a2-2d146d758efeca-882a84bec5a6/.cache/pip/wheels/cb/c8/67/83d615c0ef9b529558525aa521025b183de8c5b156799b091e\nSuccessfully built seaborn\nInstalling collected packages: seaborn\nSuccessfully installed seaborn-0.7.1\n"
                }
            ], 
            "execution_count": 19, 
            "cell_type": "code"
        }, 
        {
            "metadata": {}, 
            "source": "import seaborn as sns\n\nsns.distplot(data_df_2['B'])", 
            "outputs": [
                {
                    "output_type": "execute_result", 
                    "execution_count": 27, 
                    "metadata": {}, 
                    "data": {
                        "text/plain": "<matplotlib.axes._subplots.AxesSubplot at 0x7f046ce58a10>"
                    }
                }, 
                {
                    "metadata": {}, 
                    "output_type": "display_data", 
                    "data": {
                        "text/plain": "<matplotlib.figure.Figure at 0x7f04c8561f50>", 
                        "image/png": "[encoded data removed]"
                    }
                }
            ], 
            "execution_count": 27, 
            "cell_type": "code"
        }, 
        {
            "metadata": {
                "collapsed": true
            }, 
            "source": "", 
            "outputs": [], 
            "execution_count": null, 
            "cell_type": "code"
        }
    ]
}