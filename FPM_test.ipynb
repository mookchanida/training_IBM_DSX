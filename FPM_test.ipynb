{
    "nbformat": 4, 
    "cells": [
        {
            "execution_count": 1, 
            "cell_type": "code", 
            "metadata": {
                "collapsed": true
            }, 
            "outputs": [], 
            "source": "# Older than Spark 2.2.0\nfrom pyspark.mllib.fpm import FPGrowth"
        }, 
        {
            "execution_count": 2, 
            "cell_type": "code", 
            "metadata": {}, 
            "outputs": [
                {
                    "output_type": "stream", 
                    "name": "stdout", 
                    "text": "<class 'pyspark.rdd.PipelinedRDD'>\n"
                }, 
                {
                    "execution_count": 2, 
                    "metadata": {}, 
                    "data": {
                        "text/plain": "[['r', 'z', 'h', 'k', 'p'],\n ['z', 'y', 'x', 'w', 'v', 'u', 't', 's'],\n ['s', 'x', 'o', 'n', 'r']]"
                    }, 
                    "output_type": "execute_result"
                }
            ], 
            "source": "data = [\"r z h k p\",\"z y x w v u t s\", \"s x o n r\", \"x z y m t s q e\", \"z\", \"x z y r q t p\"]\ntransactions = sc.parallelize(data).map(lambda line: line.strip().split(' '))\nprint type(transactions)\ntransactions.take(3)"
        }, 
        {
            "execution_count": 3, 
            "cell_type": "code", 
            "metadata": {
                "collapsed": true
            }, 
            "outputs": [], 
            "source": "model = FPGrowth.train(transactions, minSupport=0.2, numPartitions=10)"
        }, 
        {
            "execution_count": 16, 
            "cell_type": "code", 
            "metadata": {}, 
            "outputs": [
                {
                    "output_type": "stream", 
                    "name": "stdout", 
                    "text": "<class 'pyspark.rdd.PipelinedRDD'>\nFreqItemset(items=[u'z'], freq=5)\nFreqItemset(items=[u'x'], freq=4)\nFreqItemset(items=[u'x', u'z'], freq=3)\nFreqItemset(items=[u'y'], freq=3)\n"
                }
            ], 
            "source": "result = model.freqItemsets().cache()\nprint type(result)\nresult_print = result.collect()\nfor fi in result_print[:4]:\n    print(fi)"
        }, 
        {
            "execution_count": 5, 
            "cell_type": "code", 
            "metadata": {}, 
            "outputs": [], 
            "source": "MEM_AND_DISK = StorageLevel(True, True, False, True, 1)\ntmp = result.map(lambda x: (map(str,x.items), x.freq)).persist(MEM_AND_DISK)"
        }, 
        {
            "execution_count": 6, 
            "cell_type": "code", 
            "metadata": {
                "collapsed": true
            }, 
            "outputs": [], 
            "source": "from itertools import chain, combinations\n\ndef powerset(iterable):\n    \"powerset([1,2,3]) --> () (1,) (2,) (3,) (1,2) (1,3) (2,3) (1,2,3)\"\n    s = list(iterable)\n    return chain.from_iterable(combinations(s, r) for r in range(len(s)+1))"
        }, 
        {
            "execution_count": 7, 
            "cell_type": "code", 
            "metadata": {}, 
            "outputs": [
                {
                    "execution_count": 7, 
                    "metadata": {}, 
                    "data": {
                        "text/plain": "[(), (1,), (2,), (3,), (1, 2), (1, 3), (2, 3), (1, 2, 3)]"
                    }, 
                    "output_type": "execute_result"
                }
            ], 
            "source": "list(powerset([1,2,3]))"
        }, 
        {
            "execution_count": 8, 
            "cell_type": "code", 
            "metadata": {}, 
            "outputs": [
                {
                    "output_type": "stream", 
                    "name": "stdout", 
                    "text": "[['z'], ['x'], ['x', 'z'], ['y'], ['y', 'x']]\n[[(), ('z',)], [(), ('x',)], [(), ('x',), ('z',), ('x', 'z')], [(), ('y',)], [(), ('y',), ('x',), ('y', 'x')]]\n[(), ('z',), (), ('x',), ()]\n[((), 1), (('z',), 1), ((), 1), (('x',), 1), ((), 1)]\n"
                }
            ], 
            "source": "print tmp.map(lambda x: x[0]).take(5)\nprint tmp.map(lambda x: x[0]).map(lambda x: list(powerset(x))).take(5)\nprint tmp.map(lambda x: x[0]).flatMap(lambda x: list(powerset(x))).take(5)\nprint tmp.map(lambda x: x[0]).flatMap(lambda x: list(powerset(x))).map(lambda x: (x, 1)).take(5)\n# print tmp.map(lambda x: x[0]).flatMap(lambda x: list(powerset(x))).map(lambda x: (x, 1)).reduceByKey(lambda x,y: x+y).take(5)"
        }, 
        {
            "execution_count": 45, 
            "cell_type": "code", 
            "metadata": {}, 
            "outputs": [
                {
                    "output_type": "stream", 
                    "name": "stdout", 
                    "text": "[(['z'], 5), (['x'], 4), (['x', 'z'], 3), (['y'], 3), (['y', 'x'], 3)]\n"
                }
            ], 
            "source": "print tmp.take(5)"
        }, 
        {
            "execution_count": 43, 
            "cell_type": "code", 
            "metadata": {}, 
            "outputs": [
                {
                    "output_type": "stream", 
                    "name": "stdout", 
                    "text": "[('[]', 0), (\"['x']\", 0), (\"['z']\", 0), (\"['x', 'z']\", 0)]\n"
                }
            ], 
            "source": "tmp2 = tmp.map(lambda x: x[0])\\\n          .filter(lambda x: len(x) > 1)\\\n          .map(lambda x: list(powerset(x)))\\\n          .zipWithIndex()\\\n          .map(lambda (x, y): (y,x))\\\n          .flatMapValues(lambda x: x)\\\n          .map(lambda (x, y): (str(list(y)),x))\\\n        \nprint tmp2.take(4)"
        }, 
        {
            "execution_count": 10, 
            "cell_type": "code", 
            "metadata": {}, 
            "outputs": [
                {
                    "execution_count": 10, 
                    "metadata": {}, 
                    "data": {
                        "text/plain": "['z', 'z', 'x']"
                    }, 
                    "output_type": "execute_result"
                }
            ], 
            "source": "result.map(lambda x: (map(str,x.items), x.freq)).flatMap(lambda x: x[0]+x[0]).take(3)"
        }, 
        {
            "execution_count": 11, 
            "cell_type": "code", 
            "metadata": {
                "collapsed": true
            }, 
            "outputs": [], 
            "source": "from itertools import chain, combinations\n\ndef powerset(iterable):\n    \"powerset([1,2,3]) --> () (1,) (2,) (3,) (1,2) (1,3) (2,3) (1,2,3)\"\n    s = list(iterable)\n    return chain.from_iterable(combinations(s, r) for r in range(len(s)+1))\n\ndef subsets(s):\n    return map(set, powerset(s))"
        }, 
        {
            "execution_count": 12, 
            "cell_type": "code", 
            "metadata": {
                "collapsed": true
            }, 
            "outputs": [], 
            "source": "def generate_associationrule(freq_itemset):\n    \n    return subsets(freq_itemset[0])"
        }, 
        {
            "execution_count": 13, 
            "cell_type": "code", 
            "metadata": {}, 
            "outputs": [
                {
                    "output_type": "stream", 
                    "name": "stdout", 
                    "text": "[[set([]), set([u'z'])], [set([]), set([u'x'])], [set([]), set([u'x']), set([u'z']), set([u'x', u'z'])], [set([]), set([u'y'])], [set([]), set([u'y']), set([u'x']), set([u'y', u'x'])]]\n"
                }
            ], 
            "source": "print result.map(generate_associationrule).take(5)"
        }, 
        {
            "source": "##### Note:", 
            "cell_type": "markdown", 
            "metadata": {}
        }, 
        {
            "execution_count": 14, 
            "cell_type": "code", 
            "metadata": {}, 
            "outputs": [
                {
                    "output_type": "stream", 
                    "name": "stdout", 
                    "text": "[FreqItemset(items=[u'r', u'x'], freq=2), FreqItemset(items=[u'r', u'z'], freq=2)]\n"
                }
            ], 
            "source": "print model.freqItemsets().sortBy(lambda x: x[1]).take(2)"
        }, 
        {
            "execution_count": 15, 
            "cell_type": "code", 
            "metadata": {}, 
            "outputs": [
                {
                    "output_type": "stream", 
                    "name": "stdout", 
                    "text": "[2, 3, 4, 5]\n"
                }
            ], 
            "source": "print model.freqItemsets().map(lambda x: x[1]).distinct().collect()"
        }
    ], 
    "metadata": {
        "kernelspec": {
            "display_name": "Python 2 with Spark 2.1", 
            "name": "python2-spark21", 
            "language": "python"
        }, 
        "language_info": {
            "file_extension": ".py", 
            "codemirror_mode": {
                "version": 2, 
                "name": "ipython"
            }, 
            "mimetype": "text/x-python", 
            "nbconvert_exporter": "python", 
            "version": "2.7.11", 
            "name": "python", 
            "pygments_lexer": "ipython2"
        }
    }, 
    "nbformat_minor": 1
}