{
    "metadata": {
        "language_info": {
            "name": "python", 
            "file_extension": ".py", 
            "pygments_lexer": "ipython2", 
            "nbconvert_exporter": "python", 
            "mimetype": "text/x-python", 
            "codemirror_mode": {
                "name": "ipython", 
                "version": 2
            }, 
            "version": "2.7.11"
        }, 
        "kernelspec": {
            "name": "python2-spark20", 
            "language": "python", 
            "display_name": "Python 2 with Spark 2.0"
        }
    }, 
    "nbformat": 4, 
    "nbformat_minor": 1, 
    "cells": [
        {
            "metadata": {}, 
            "source": "# The code was removed by DSX for sharing.", 
            "outputs": [], 
            "execution_count": 1, 
            "cell_type": "code"
        }, 
        {
            "metadata": {}, 
            "source": "from ingest.Connectors import Connectors\nfrom pyspark.sql import SQLContext\nsqlContext = SQLContext(sc)\n\nHDFSloadOptions = {\n    Connectors.HdfsBigInsights.URL : credentials['URL'],\n    Connectors.HdfsBigInsights.USERNAME : credentials['username'], \n    Connectors.HdfsBigInsights.PASSWORD : credentials['pwd'],\n    Connectors.HdfsBigInsights.SOURCE_FILE_NAME : '/user/chanidad/titanic_train.csv',\n    Connectors.HdfsBigInsights.SOURCE_FILE_FORMAT : 'csv',\n    Connectors.HdfsBigInsights.SOURCE_INFER_SCHEMA : '1'\n  }\n\nhdfsDF = sqlContext.read.format(\"com.ibm.spark.discover\").options(**HDFSloadOptions).load()\nhdfsDF.printSchema()\nhdfsDF.show()", 
            "outputs": [
                {
                    "name": "stdout", 
                    "output_type": "stream", 
                    "text": "root\n |-- PassengerId: integer (nullable = true)\n |-- Survived: integer (nullable = true)\n |-- Pclass: integer (nullable = true)\n |-- Name: string (nullable = true)\n |-- Sex: string (nullable = true)\n |-- Age: decimal(31,6) (nullable = true)\n |-- SibSp: integer (nullable = true)\n |-- Parch: integer (nullable = true)\n |-- Ticket: string (nullable = true)\n |-- Fare: decimal(31,6) (nullable = true)\n |-- Cabin: string (nullable = true)\n |-- Embarked: string (nullable = true)\n\n+-----------+--------+------+--------------------+------+---------+-----+-----+----------------+---------+-----+--------+\n|PassengerId|Survived|Pclass|                Name|   Sex|      Age|SibSp|Parch|          Ticket|     Fare|Cabin|Embarked|\n+-----------+--------+------+--------------------+------+---------+-----+-----+----------------+---------+-----+--------+\n|          1|       0|     3|Braund, Mr. Owen ...|  male|22.000000|    1|    0|       A/5 21171| 7.250000| null|       S|\n|          2|       1|     1|Cumings, Mrs. Joh...|female|38.000000|    1|    0|        PC 17599|71.283300|  C85|       C|\n|          3|       1|     3|Heikkinen, Miss. ...|female|26.000000|    0|    0|STON/O2. 3101282| 7.925000| null|       S|\n|          4|       1|     1|Futrelle, Mrs. Ja...|female|35.000000|    1|    0|          113803|53.100000| C123|       S|\n|          5|       0|     3|Allen, Mr. Willia...|  male|35.000000|    0|    0|          373450| 8.050000| null|       S|\n|          6|       0|     3|    Moran, Mr. James|  male|     null|    0|    0|          330877| 8.458300| null|       Q|\n|          7|       0|     1|McCarthy, Mr. Tim...|  male|54.000000|    0|    0|           17463|51.862500|  E46|       S|\n|          8|       0|     3|Palsson, Master. ...|  male| 2.000000|    3|    1|          349909|21.075000| null|       S|\n|          9|       1|     3|Johnson, Mrs. Osc...|female|27.000000|    0|    2|          347742|11.133300| null|       S|\n|         10|       1|     2|Nasser, Mrs. Nich...|female|14.000000|    1|    0|          237736|30.070800| null|       C|\n|         11|       1|     3|Sandstrom, Miss. ...|female| 4.000000|    1|    1|         PP 9549|16.700000|   G6|       S|\n|         12|       1|     1|Bonnell, Miss. El...|female|58.000000|    0|    0|          113783|26.550000| C103|       S|\n|         13|       0|     3|Saundercock, Mr. ...|  male|20.000000|    0|    0|       A/5. 2151| 8.050000| null|       S|\n|         14|       0|     3|Andersson, Mr. An...|  male|39.000000|    1|    5|          347082|31.275000| null|       S|\n|         15|       0|     3|Vestrom, Miss. Hu...|female|14.000000|    0|    0|          350406| 7.854200| null|       S|\n|         16|       1|     2|Hewlett, Mrs. (Ma...|female|55.000000|    0|    0|          248706|16.000000| null|       S|\n|         17|       0|     3|Rice, Master. Eugene|  male| 2.000000|    4|    1|          382652|29.125000| null|       Q|\n|         18|       1|     2|Williams, Mr. Cha...|  male|     null|    0|    0|          244373|13.000000| null|       S|\n|         19|       0|     3|Vander Planke, Mr...|female|31.000000|    1|    0|          345763|18.000000| null|       S|\n|         20|       1|     3|Masselmani, Mrs. ...|female|     null|    0|    0|            2649| 7.225000| null|       C|\n+-----------+--------+------+--------------------+------+---------+-----+-----+----------------+---------+-----+--------+\nonly showing top 20 rows\n\n"
                }
            ], 
            "execution_count": 2, 
            "cell_type": "code"
        }
    ]
}