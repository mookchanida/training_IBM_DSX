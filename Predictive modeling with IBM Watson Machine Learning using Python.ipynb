{
    "nbformat": 4, 
    "cells": [
        {
            "cell_type": "code", 
            "execution_count": 1, 
            "metadata": {
                "collapsed": true
            }, 
            "outputs": [], 
            "source": "# The code was removed by DSX for sharing."
        }, 
        {
            "cell_type": "markdown", 
            "metadata": {}, 
            "source": "<table style=\"border: none\" align=\"left\">\n   <tr style=\"border: none\">\n      <th style=\"border: none\"><font face=\"verdana\" size=\"5\" color=\"black\"><b>Predict outdoor equipment purchase with IBM Watson Machine Learning</b></th>\n      <th style=\"border: none\"><img src=\"https://github.com/pmservice/customer-satisfaction-prediction/blob/master/app/static/images/ml_icon_gray.png?raw=true\" alt=\"Watson Machine Learning icon\" height=\"40\" width=\"40\"></th>\n   </tr>\n   <tr style=\"border: none\">\n       <th style=\"border: none\"><img src=\"https://github.com/pmservice/wml-sample-models/blob/master/spark/product-line-prediction/images/products_graphics.png?raw=true\" alt=\"Icon\"> </th>\n   </tr>\n</table>"
        }, 
        {
            "cell_type": "markdown", 
            "metadata": {}, 
            "source": "This notebook contains steps and code to get data from the IBM Data Science Experience Community, create a predictive model, and start scoring new data. This notebook introduces commands for getting data and for basic data cleaning and exploration, pipeline creation, model training, model persistence to Watson Machine Learning repository, model deployment, and scoring.\n\nSome familiarity with Python is helpful. This notebook uses Python 2.0 and Apache\u00ae Spark 2.0.\n\nYou will use a publicly available data set, **GoSales Transactions for Naive Bayes Model**, which details anonymous outdoor equipment purchases. Use the details of this data set to predict clients' interests in terms of product line, such as golf accessories, camping equipment, and others.\n\n## Learning goals\n\nThe learning goals of this notebook are:\n\n-  Load a CSV file into an Apache\u00ae Spark DataFrame.\n-  Explore data.\n-  Prepare data for training and evaluation.\n-  Create an Apache\u00ae Spark machine learning pipeline.\n-  Train and evaluate a model.\n-  Persist a pipeline and model in Watson Machine Learning repository.\n-  Deploy a model for online scoring using Wastson Machine Learning API.\n-  Score sample scoring data using the Watson Machine Learning API.\n-  Explore and visualize prediction result using the Plotly package.\n\n\n## Contents\n\nThis notebook contains the following parts:\n\n1.\t[Setup](#setup)\n2.\t[Load and explore data](#load)\n3.\t[Create spark ml model](#model)\n4.\t[Persist the model](#persistence)\n5.\t[Predict locally and visualize](#visualization)\n6.\t[Deploy and score in a Cloud](#scoring)\n7.\t[Summary and next steps](#summary)"
        }, 
        {
            "cell_type": "markdown", 
            "metadata": {}, 
            "source": "<a id=\"setup\"></a>\n## 1. Setup\n\nBefore you use the sample code in this notebook, you must perform the following setup tasks:\n\n1.  Create a [Watson Machine Learning Service](https://console.ng.bluemix.net/catalog/services/ibm-watson-machine-learning/) instance (a free plan is offered). \n1.  Upload **GoSales Transactions** data as a data asset in IBM Data Science Experience.\n1.  Make sure that you are using a Spark 2.0 kernel.\n1.  Insert a project token. Click the *More* icon and then click *Insert project token*. A project token cell appears at the beginning of this notebook.\n1.  Run the project token cell by placing your cursor in the cell and then clicking *Run Cell, Select Below*.\n\n### Create the GoSales Transactions Data Asset  \n\nThe GOSales data is a freely available data set on the Data Science Experience home page.\n\n1.  Go to the [GoSales Transactions for Naive Bayes Model](https://apsportal.ibm.com/exchange/public/entry/view/8044492073eb964f46597b4be06ff5ea) data card on the Data Science Experience Community.\n2.  Click the link icon.\n4.  Select the link, copy it by pressing Ctrl+C, and then, click **Close**.\n5.  In the cell in the next section, replace the **link_to_data** variable value with the link."
        }, 
        {
            "cell_type": "markdown", 
            "metadata": {}, 
            "source": "<a id=\"load\"></a>\n## 2. Load and explore data"
        }, 
        {
            "cell_type": "markdown", 
            "metadata": {}, 
            "source": "In this section you will load the data as an Apache\u00ae Spark DataFrame and perform a basic exploration.\n\nLoad the data to the Spark DataFrame by using *wget* to upload the data to gpfs and then run the *read* method. "
        }, 
        {
            "cell_type": "markdown", 
            "metadata": {}, 
            "source": "**Example**: First, you need to install required packages. You can do it by running the following code. Run it only one time.<BR><BR>\n!pip install wget --user <BR>"
        }, 
        {
            "cell_type": "code", 
            "execution_count": 15, 
            "metadata": {}, 
            "outputs": [
                {
                    "name": "stdout", 
                    "output_type": "stream", 
                    "text": "Collecting wget\n  Downloading wget-3.2.zip\nBuilding wheels for collected packages: wget\n  Running setup.py bdist_wheel for wget ... \u001b[?25ldone\n\u001b[?25h  Stored in directory: /gpfs/fs01/user/s7a2-2d146d758efeca-882a84bec5a6/.cache/pip/wheels/6d/98/29/61ccc41148f871009126c2e844e26f73eeb25e12cca92228a5\nSuccessfully built wget\nInstalling collected packages: wget\nSuccessfully installed wget-3.2\n"
                }
            ], 
            "source": "!pip install wget --user"
        }, 
        {
            "cell_type": "code", 
            "execution_count": 16, 
            "metadata": {}, 
            "outputs": [
                {
                    "name": "stdout", 
                    "output_type": "stream", 
                    "text": "GoSales_Tx_NaiveBayes.csv\n"
                }
            ], 
            "source": "import wget\n\nlink_to_data = 'https://apsportal.ibm.com/exchange-api/v1/entries/8044492073eb964f46597b4be06ff5ea/data?accessKey=9561295fa407698694b1e254d0099600'\nfilename = wget.download(link_to_data)\n\nprint filename"
        }, 
        {
            "cell_type": "markdown", 
            "metadata": {}, 
            "source": "The csv file `GoSales_Tx_NaiveBayes.csv` is available on gpfs now. Load the file to Apache\u00ae Spark DataFrame using code below."
        }, 
        {
            "cell_type": "code", 
            "execution_count": 17, 
            "metadata": {}, 
            "outputs": [
                {
                    "data": {
                        "text/plain": "[Row(PRODUCT_LINE=u'Personal Accessories', GENDER=u'M', AGE=27, MARITAL_STATUS=u'Single', PROFESSION=u'Professional'),\n Row(PRODUCT_LINE=u'Personal Accessories', GENDER=u'F', AGE=39, MARITAL_STATUS=u'Married', PROFESSION=u'Other'),\n Row(PRODUCT_LINE=u'Mountaineering Equipment', GENDER=u'F', AGE=39, MARITAL_STATUS=u'Married', PROFESSION=u'Other'),\n Row(PRODUCT_LINE=u'Personal Accessories', GENDER=u'F', AGE=56, MARITAL_STATUS=u'Unspecified', PROFESSION=u'Hospitality'),\n Row(PRODUCT_LINE=u'Golf Equipment', GENDER=u'M', AGE=45, MARITAL_STATUS=u'Married', PROFESSION=u'Retired')]"
                    }, 
                    "execution_count": 17, 
                    "metadata": {}, 
                    "output_type": "execute_result"
                }
            ], 
            "source": "spark = SparkSession.builder.getOrCreate()\n\ndf_data = spark.read\\\n  .format('org.apache.spark.sql.execution.datasources.csv.CSVFileFormat')\\\n  .option('header', 'true')\\\n  .option('inferSchema', 'true')\\\n  .load(filename)\ndf_data.take(5)"
        }, 
        {
            "cell_type": "markdown", 
            "metadata": {}, 
            "source": "### Data is uploaded manually"
        }, 
        {
            "cell_type": "code", 
            "execution_count": 2, 
            "metadata": {}, 
            "outputs": [
                {
                    "data": {
                        "text/plain": "[Row(PRODUCT_LINE=u'Personal Accessories', GENDER=u'M', AGE=u'27', MARITAL_STATUS=u'Single', PROFESSION=u'Professional'),\n Row(PRODUCT_LINE=u'Personal Accessories', GENDER=u'F', AGE=u'39', MARITAL_STATUS=u'Married', PROFESSION=u'Other'),\n Row(PRODUCT_LINE=u'Mountaineering Equipment', GENDER=u'F', AGE=u'39', MARITAL_STATUS=u'Married', PROFESSION=u'Other'),\n Row(PRODUCT_LINE=u'Personal Accessories', GENDER=u'F', AGE=u'56', MARITAL_STATUS=u'Unspecified', PROFESSION=u'Hospitality'),\n Row(PRODUCT_LINE=u'Golf Equipment', GENDER=u'M', AGE=u'45', MARITAL_STATUS=u'Married', PROFESSION=u'Retired')]"
                    }, 
                    "execution_count": 2, 
                    "metadata": {}, 
                    "output_type": "execute_result"
                }
            ], 
            "source": "# The code was removed by DSX for sharing."
        }, 
        {
            "cell_type": "markdown", 
            "metadata": {}, 
            "source": "Explore the loaded data by using the following Apache\u00ae Spark DataFrame methods:\n-  print schema\n-  print top ten records\n-  count all records"
        }, 
        {
            "cell_type": "code", 
            "execution_count": 18, 
            "metadata": {}, 
            "outputs": [
                {
                    "name": "stdout", 
                    "output_type": "stream", 
                    "text": "root\n |-- PRODUCT_LINE: string (nullable = true)\n |-- GENDER: string (nullable = true)\n |-- AGE: integer (nullable = true)\n |-- MARITAL_STATUS: string (nullable = true)\n |-- PROFESSION: string (nullable = true)\n\n"
                }
            ], 
            "source": "df_data.printSchema()"
        }, 
        {
            "cell_type": "markdown", 
            "metadata": {}, 
            "source": "As you can see, the data contains five fields. PRODUCT_LINE field is the one we would like to predict (label)."
        }, 
        {
            "cell_type": "code", 
            "execution_count": 19, 
            "metadata": {}, 
            "outputs": [
                {
                    "name": "stdout", 
                    "output_type": "stream", 
                    "text": "+--------------------+------+---+--------------+------------+\n|        PRODUCT_LINE|GENDER|AGE|MARITAL_STATUS|  PROFESSION|\n+--------------------+------+---+--------------+------------+\n|Personal Accessories|     M| 27|        Single|Professional|\n|Personal Accessories|     F| 39|       Married|       Other|\n|Mountaineering Eq...|     F| 39|       Married|       Other|\n|Personal Accessories|     F| 56|   Unspecified| Hospitality|\n|      Golf Equipment|     M| 45|       Married|     Retired|\n|      Golf Equipment|     M| 45|       Married|     Retired|\n|   Camping Equipment|     F| 39|       Married|       Other|\n|   Camping Equipment|     F| 49|       Married|       Other|\n|  Outdoor Protection|     F| 49|       Married|       Other|\n|      Golf Equipment|     M| 47|       Married|     Retired|\n|      Golf Equipment|     M| 47|       Married|     Retired|\n|Mountaineering Eq...|     M| 21|        Single|      Retail|\n|Personal Accessories|     F| 66|       Married|       Other|\n|   Camping Equipment|     F| 35|       Married|Professional|\n|Mountaineering Eq...|     M| 20|        Single|       Sales|\n|Mountaineering Eq...|     M| 20|        Single|       Sales|\n|Mountaineering Eq...|     M| 20|        Single|       Sales|\n|Personal Accessories|     F| 37|        Single|       Other|\n|   Camping Equipment|     M| 42|       Married|       Other|\n|   Camping Equipment|     F| 24|       Married|      Retail|\n+--------------------+------+---+--------------+------------+\nonly showing top 20 rows\n\n"
                }
            ], 
            "source": "df_data.show()"
        }, 
        {
            "cell_type": "code", 
            "execution_count": 20, 
            "metadata": {}, 
            "outputs": [
                {
                    "data": {
                        "text/plain": "60252"
                    }, 
                    "execution_count": 20, 
                    "metadata": {}, 
                    "output_type": "execute_result"
                }
            ], 
            "source": "df_data.count()"
        }, 
        {
            "cell_type": "markdown", 
            "metadata": {}, 
            "source": "As you can see, the data set contains 60252 records."
        }, 
        {
            "cell_type": "markdown", 
            "metadata": {}, 
            "source": "<a id=\"model\"></a>\n## 3. Create an Apache\u00ae Spark machine learning model\n\nIn this section you will learn how to prepare data, create an Apache\u00ae Spark machine learning pipeline, and train a model."
        }, 
        {
            "cell_type": "markdown", 
            "metadata": {}, 
            "source": "### 3.1: Prepare data\n\nSplit your data into the train, test, and predict data sets:"
        }, 
        {
            "cell_type": "code", 
            "execution_count": 21, 
            "metadata": {}, 
            "outputs": [
                {
                    "name": "stdout", 
                    "output_type": "stream", 
                    "text": "Number of training records: 48176\nNumber of testing records : 10860\nNumber of prediction records : 1216\n"
                }
            ], 
            "source": "splitted_data = df_data.randomSplit([0.8, 0.18, 0.02], 24)\ntrain_data = splitted_data[0]\ntest_data = splitted_data[1]\npredict_data = splitted_data[2]\n\nprint \"Number of training records: \" + str(train_data.count())\nprint \"Number of testing records : \" + str(test_data.count())\nprint \"Number of prediction records : \" + str(predict_data.count())"
        }, 
        {
            "cell_type": "markdown", 
            "metadata": {}, 
            "source": "The data has been split into three data sets: \n\n-  The train data set, which is the largest group, is used for training.\n-  The test data set is used for model evaluation and to test the assumptions of the model.\n-  The predict data set is used for predictions."
        }, 
        {
            "cell_type": "markdown", 
            "metadata": {}, 
            "source": "### 3.2: Create pipeline and train a model"
        }, 
        {
            "cell_type": "markdown", 
            "metadata": {}, 
            "source": "In this section you will create an Apache\u00ae Spark machine learning pipeline and then train the model."
        }, 
        {
            "cell_type": "markdown", 
            "metadata": {}, 
            "source": "Import the Apache\u00ae Spark machine learning packages that you'll need in the subsequent steps:"
        }, 
        {
            "cell_type": "code", 
            "execution_count": 22, 
            "metadata": {}, 
            "outputs": [], 
            "source": "from pyspark.ml.feature import OneHotEncoder, StringIndexer, IndexToString, VectorAssembler\nfrom pyspark.ml.classification import RandomForestClassifier\nfrom pyspark.ml.evaluation import MulticlassClassificationEvaluator\nfrom pyspark.ml import Pipeline, Model"
        }, 
        {
            "cell_type": "markdown", 
            "metadata": {}, 
            "source": "Convert all the string fields to numeric ones by using the StringIndexer transformer:"
        }, 
        {
            "cell_type": "code", 
            "execution_count": 23, 
            "metadata": {}, 
            "outputs": [], 
            "source": "stringIndexer_label = StringIndexer(inputCol=\"PRODUCT_LINE\", outputCol=\"label\").fit(df_data)\nstringIndexer_prof = StringIndexer(inputCol=\"PROFESSION\", outputCol=\"PROFESSION_IX\")\nstringIndexer_gend = StringIndexer(inputCol=\"GENDER\", outputCol=\"GENDER_IX\")\nstringIndexer_mar = StringIndexer(inputCol=\"MARITAL_STATUS\", outputCol=\"MARITAL_STATUS_IX\")"
        }, 
        {
            "cell_type": "markdown", 
            "metadata": {}, 
            "source": "Create a feature vector by combining all features together:"
        }, 
        {
            "cell_type": "code", 
            "execution_count": 24, 
            "metadata": {
                "collapsed": true
            }, 
            "outputs": [], 
            "source": "vectorAssembler_features = VectorAssembler(inputCols=[\"GENDER_IX\", \"AGE\", \"MARITAL_STATUS_IX\", \"PROFESSION_IX\"], outputCol=\"features\")"
        }, 
        {
            "cell_type": "markdown", 
            "metadata": {}, 
            "source": "Next, define the estimators you want to use for classification. Random Forest is used in the following example."
        }, 
        {
            "cell_type": "code", 
            "execution_count": 25, 
            "metadata": {
                "collapsed": true
            }, 
            "outputs": [], 
            "source": "rf = RandomForestClassifier(labelCol=\"label\", featuresCol=\"features\")"
        }, 
        {
            "cell_type": "markdown", 
            "metadata": {}, 
            "source": "Finally, convert indexed labels back to original labels:"
        }, 
        {
            "cell_type": "code", 
            "execution_count": 26, 
            "metadata": {}, 
            "outputs": [], 
            "source": "labelConverter = IndexToString(inputCol=\"prediction\", outputCol=\"predictedLabel\", labels=stringIndexer_label.labels)"
        }, 
        {
            "cell_type": "markdown", 
            "metadata": {}, 
            "source": "Now build the pipeline. A pipeline consists of transformers and an estimator."
        }, 
        {
            "cell_type": "code", 
            "execution_count": 27, 
            "metadata": {}, 
            "outputs": [], 
            "source": "pipeline_rf = Pipeline(stages=[stringIndexer_label, stringIndexer_prof, stringIndexer_gend, stringIndexer_mar, vectorAssembler_features, rf, labelConverter])"
        }, 
        {
            "cell_type": "markdown", 
            "metadata": {}, 
            "source": "Train your Random Forest model by using your pipeline with the train_data set."
        }, 
        {
            "cell_type": "code", 
            "execution_count": 28, 
            "metadata": {}, 
            "outputs": [
                {
                    "name": "stdout", 
                    "output_type": "stream", 
                    "text": "root\n |-- PRODUCT_LINE: string (nullable = true)\n |-- GENDER: string (nullable = true)\n |-- AGE: integer (nullable = true)\n |-- MARITAL_STATUS: string (nullable = true)\n |-- PROFESSION: string (nullable = true)\n\n"
                }
            ], 
            "source": "train_data.printSchema()"
        }, 
        {
            "cell_type": "code", 
            "execution_count": 29, 
            "metadata": {}, 
            "outputs": [], 
            "source": "model_rf = pipeline_rf.fit(train_data)"
        }, 
        {
            "cell_type": "markdown", 
            "metadata": {}, 
            "source": "You can check your **model accuracy** now. Evaluate the model with the test_data set."
        }, 
        {
            "cell_type": "code", 
            "execution_count": 30, 
            "metadata": {}, 
            "outputs": [
                {
                    "name": "stdout", 
                    "output_type": "stream", 
                    "text": "Accuracy = 0.589319\nTest Error = 0.410681\n"
                }
            ], 
            "source": "predictions = model_rf.transform(test_data)\nevaluatorRF = MulticlassClassificationEvaluator(labelCol=\"label\", predictionCol=\"prediction\", metricName=\"accuracy\")\naccuracy = evaluatorRF.evaluate(predictions)\nprint(\"Accuracy = %g\" % accuracy)\nprint(\"Test Error = %g\" % (1.0 - accuracy))"
        }, 
        {
            "cell_type": "markdown", 
            "metadata": {
                "collapsed": true
            }, 
            "source": "You can now tune your model to achieve better accuracy. For simplicity, the tuning section is omitted from this example."
        }, 
        {
            "cell_type": "markdown", 
            "metadata": {
                "collapsed": true
            }, 
            "source": "<a id=\"persistence\"></a>\n## 4. Persist the model"
        }, 
        {
            "cell_type": "markdown", 
            "metadata": {}, 
            "source": "In this section you will learn how to store your pipeline and model in Watson Machine Learning repository by using Python client libraries."
        }, 
        {
            "cell_type": "markdown", 
            "metadata": {
                "collapsed": true
            }, 
            "source": "First, you must import client libraries."
        }, 
        {
            "cell_type": "code", 
            "execution_count": 31, 
            "metadata": {
                "collapsed": true
            }, 
            "outputs": [], 
            "source": "from repository.mlrepositoryclient import MLRepositoryClient\nfrom repository.mlrepositoryartifact import MLRepositoryArtifact"
        }, 
        {
            "cell_type": "markdown", 
            "metadata": {}, 
            "source": "Put your authentication information from your instance of the Watson Machine Learning service on Bluemix in the next cell. You can find your information on the **Service Credentials** tab of your service instance in Bluemix."
        }, 
        {
            "cell_type": "code", 
            "execution_count": 32, 
            "metadata": {
                "collapsed": true
            }, 
            "outputs": [], 
            "source": "credentials = {\n  \"url\": \"https://ibm-watson-ml.mybluemix.net\",\n  \"access_key\": \"gh50gD6lT2KK3u50bdUnb2p12bfPr/RGjGTyQC/enGILEQPb4Bhnv5Pfsenn4vIkHxGxQ3pIogjgEOjN0TGDTcL0h32gVzPkwMbmHXNpi+FQYUqQmv73SQJrb1WXWeZv\",\n  \"username\": \"1be8e777-cf73-46cb-ae97-487aa3f1f164\",\n  \"password\": \"c3a6389e-c964-4de4-85ef-1e23aff914c3\"\n}\n\nservice_path = credentials['url']\nusername = credentials['username']\npassword = credentials['password']"
        }, 
        {
            "cell_type": "markdown", 
            "metadata": {}, 
            "source": "Authorize the repository client:"
        }, 
        {
            "cell_type": "code", 
            "execution_count": 33, 
            "metadata": {}, 
            "outputs": [], 
            "source": "ml_repository_client = MLRepositoryClient(service_path)\nml_repository_client.authorize(username, password)"
        }, 
        {
            "cell_type": "markdown", 
            "metadata": {}, 
            "source": "Create the model artifact (abstraction layer)."
        }, 
        {
            "cell_type": "code", 
            "execution_count": 34, 
            "metadata": {}, 
            "outputs": [], 
            "source": "model_artifact = MLRepositoryArtifact(model_rf, training_data=train_data, name=\"Product Line Prediction Model\")"
        }, 
        {
            "cell_type": "markdown", 
            "metadata": {}, 
            "source": "**Tip**: The MLRepositoryArtifact method expects a trained model object, training data, and a model name. (It is this model name that is displayed by the Watson Machine Learning service)."
        }, 
        {
            "cell_type": "markdown", 
            "metadata": {}, 
            "source": "### 4.1: Save the pipeline and model"
        }, 
        {
            "cell_type": "markdown", 
            "metadata": {}, 
            "source": "Save pipeline and model artifacts to your Watson Machine Learning instance:"
        }, 
        {
            "cell_type": "code", 
            "execution_count": 35, 
            "metadata": {}, 
            "outputs": [], 
            "source": "saved_model = ml_repository_client.models.save(model_artifact)"
        }, 
        {
            "cell_type": "markdown", 
            "metadata": {}, 
            "source": "Get the saved model metadata from Watson Machine Learning. Use the *meta.available_props()* method to get the list of available props."
        }, 
        {
            "cell_type": "code", 
            "execution_count": 36, 
            "metadata": {}, 
            "outputs": [
                {
                    "data": {
                        "text/plain": "['inputDataSchema',\n 'evaluationMetrics',\n 'pipelineVersionHref',\n 'modelVersionHref',\n 'trainingDataRef',\n 'pipelineType',\n 'creationTime',\n 'lastUpdated',\n 'label',\n 'authorEmail',\n 'trainingDataSchema',\n 'authorName',\n 'version',\n 'modelType',\n 'runtime',\n 'evaluationMethod']"
                    }, 
                    "execution_count": 36, 
                    "metadata": {}, 
                    "output_type": "execute_result"
                }
            ], 
            "source": "saved_model.meta.available_props()"
        }, 
        {
            "cell_type": "code", 
            "execution_count": 37, 
            "metadata": {}, 
            "outputs": [
                {
                    "name": "stdout", 
                    "output_type": "stream", 
                    "text": "modelType: sparkml-model-2.0\ntrainingDataSchema: {u'fields': [{u'nullable': True, u'type': u'string', u'name': u'PRODUCT_LINE', u'metadata': {}}, {u'nullable': True, u'type': u'string', u'name': u'GENDER', u'metadata': {}}, {u'nullable': True, u'type': u'integer', u'name': u'AGE', u'metadata': {}}, {u'nullable': True, u'type': u'string', u'name': u'MARITAL_STATUS', u'metadata': {}}, {u'nullable': True, u'type': u'string', u'name': u'PROFESSION', u'metadata': {}}], u'type': u'struct'}\ncreationTime: 2017-07-06 07:30:21.392000+00:00\nmodelVersionHref: https://ibm-watson-ml.mybluemix.net/v2/artifacts/models/de8fa069-ad71-4d87-935e-7bf311a129a9/versions/7b4d9acf-9a74-433e-89fb-b29892f37433\nlabel: PRODUCT_LINE\n"
                }
            ], 
            "source": "print \"modelType: \" + saved_model.meta.prop(\"modelType\")\nprint \"trainingDataSchema: \" + str(saved_model.meta.prop(\"trainingDataSchema\"))\nprint \"creationTime: \" + str(saved_model.meta.prop(\"creationTime\"))\nprint \"modelVersionHref: \" + saved_model.meta.prop(\"modelVersionHref\")\nprint \"label: \" + saved_model.meta.prop(\"label\")"
        }, 
        {
            "cell_type": "markdown", 
            "metadata": {}, 
            "source": "**Tip**: **modelVersionHref** is our model unique indentifier in the Watson Machine Learning repository."
        }, 
        {
            "cell_type": "markdown", 
            "metadata": {}, 
            "source": "### 4.2: Load the model"
        }, 
        {
            "cell_type": "markdown", 
            "metadata": {}, 
            "source": "Load the saved model from the specified instance of Watson Machine Learning:"
        }, 
        {
            "cell_type": "code", 
            "execution_count": 38, 
            "metadata": {}, 
            "outputs": [], 
            "source": "loadedModelArtifact = ml_repository_client.models.get(saved_model.uid)"
        }, 
        {
            "cell_type": "markdown", 
            "metadata": {}, 
            "source": "You can print for example model name to make sure that model has been loaded correctly."
        }, 
        {
            "cell_type": "code", 
            "execution_count": 39, 
            "metadata": {}, 
            "outputs": [
                {
                    "name": "stdout", 
                    "output_type": "stream", 
                    "text": "Product Line Prediction Model\n"
                }
            ], 
            "source": "print str(loadedModelArtifact.name)"
        }, 
        {
            "cell_type": "markdown", 
            "metadata": {}, 
            "source": "As you can see the name is correct. You have learned how save and load the model from Watson Machine Learning repository."
        }, 
        {
            "cell_type": "markdown", 
            "metadata": {}, 
            "source": "<a id=\"visualization\"></a>\n## 5. Predict locally and visualize"
        }, 
        {
            "cell_type": "markdown", 
            "metadata": {}, 
            "source": "In this section you will learn how to score test data using loaded model and visualize the prediction results with the Plotly package."
        }, 
        {
            "cell_type": "markdown", 
            "metadata": {}, 
            "source": "### 5.1: Make a local prediction using previously loaded model and test data"
        }, 
        {
            "cell_type": "markdown", 
            "metadata": {}, 
            "source": "Score the predict_data data set:"
        }, 
        {
            "cell_type": "code", 
            "execution_count": 40, 
            "metadata": {
                "collapsed": true
            }, 
            "outputs": [], 
            "source": "predictions = loadedModelArtifact.model_instance().transform(predict_data)"
        }, 
        {
            "cell_type": "markdown", 
            "metadata": {}, 
            "source": "Preview the results by calling the *show()* method on the predictions DataFrame."
        }, 
        {
            "cell_type": "code", 
            "execution_count": 41, 
            "metadata": {}, 
            "outputs": [
                {
                    "name": "stdout", 
                    "output_type": "stream", 
                    "text": "+-----------------+------+---+--------------+----------+-----+-------------+---------+-----------------+------------------+--------------------+--------------------+----------+--------------------+\n|     PRODUCT_LINE|GENDER|AGE|MARITAL_STATUS|PROFESSION|label|PROFESSION_IX|GENDER_IX|MARITAL_STATUS_IX|          features|       rawPrediction|         probability|prediction|      predictedLabel|\n+-----------------+------+---+--------------+----------+-----+-------------+---------+-----------------+------------------+--------------------+--------------------+----------+--------------------+\n|Camping Equipment|     F| 20|        Single|     Other|  0.0|          0.0|      1.0|              1.0|[1.0,20.0,1.0,0.0]|[5.54119162527029...|[0.27705958126351...|       1.0|Personal Accessories|\n|Camping Equipment|     F| 20|        Single|     Other|  0.0|          0.0|      1.0|              1.0|[1.0,20.0,1.0,0.0]|[5.54119162527029...|[0.27705958126351...|       1.0|Personal Accessories|\n|Camping Equipment|     F| 20|        Single|     Other|  0.0|          0.0|      1.0|              1.0|[1.0,20.0,1.0,0.0]|[5.54119162527029...|[0.27705958126351...|       1.0|Personal Accessories|\n|Camping Equipment|     F| 20|        Single|     Other|  0.0|          0.0|      1.0|              1.0|[1.0,20.0,1.0,0.0]|[5.54119162527029...|[0.27705958126351...|       1.0|Personal Accessories|\n|Camping Equipment|     F| 21|       Married|     Other|  0.0|          0.0|      1.0|              0.0|[1.0,21.0,0.0,0.0]|[8.54473640086929...|[0.42723682004346...|       0.0|   Camping Equipment|\n+-----------------+------+---+--------------+----------+-----+-------------+---------+-----------------+------------------+--------------------+--------------------+----------+--------------------+\nonly showing top 5 rows\n\n"
                }
            ], 
            "source": "predictions.show(5)"
        }, 
        {
            "cell_type": "markdown", 
            "metadata": {}, 
            "source": "Tabulate a count to see which product line is the most popular:"
        }, 
        {
            "cell_type": "code", 
            "execution_count": 42, 
            "metadata": {}, 
            "outputs": [
                {
                    "name": "stdout", 
                    "output_type": "stream", 
                    "text": "+--------------------+-----+\n|      predictedLabel|count|\n+--------------------+-----+\n|   Camping Equipment|  717|\n|      Golf Equipment|   61|\n|Mountaineering Eq...|   75|\n|Personal Accessories|  363|\n+--------------------+-----+\n\n"
                }
            ], 
            "source": "predictions.select(\"predictedLabel\").groupBy(\"predictedLabel\").count().show()"
        }, 
        {
            "cell_type": "markdown", 
            "metadata": {}, 
            "source": "### 5.2: Sample visualization of data with Plotly package"
        }, 
        {
            "cell_type": "markdown", 
            "metadata": {}, 
            "source": "In this subsection you will explore prediction results with Plotly, which is an online analytics and data visualization tool."
        }, 
        {
            "cell_type": "markdown", 
            "metadata": {}, 
            "source": "**Example**: First, you need to install required packages. You can do it by running the following code. Run it only one time.<BR><BR>\n!pip install plotly --user <BR>\n!pip install cufflinks --user"
        }, 
        {
            "cell_type": "markdown", 
            "metadata": {}, 
            "source": "Import Plotly and other required packages."
        }, 
        {
            "cell_type": "code", 
            "execution_count": 43, 
            "metadata": {}, 
            "outputs": [
                {
                    "name": "stdout", 
                    "output_type": "stream", 
                    "text": "Collecting plotly\n  Downloading plotly-2.0.12.tar.gz (1.0MB)\n\u001b[K    100% |\u2588\u2588\u2588\u2588\u2588\u2588\u2588\u2588\u2588\u2588\u2588\u2588\u2588\u2588\u2588\u2588\u2588\u2588\u2588\u2588\u2588\u2588\u2588\u2588\u2588\u2588\u2588\u2588\u2588\u2588\u2588\u2588| 1.0MB 1.2MB/s eta 0:00:01\n\u001b[?25hRequirement already satisfied: decorator>=4.0.6 in /usr/local/src/bluemix_jupyter_bundle.v51/notebook/lib/python2.7/site-packages (from plotly)\nRequirement already satisfied: nbformat>=4.2 in /usr/local/src/bluemix_jupyter_bundle.v51/notebook/lib/python2.7/site-packages (from plotly)\nRequirement already satisfied: pytz in /usr/local/src/bluemix_jupyter_bundle.v51/notebook/lib/python2.7/site-packages (from plotly)\nRequirement already satisfied: requests in /gpfs/global_fs01/sym_shared/YPProdSpark/user/s7a2-2d146d758efeca-882a84bec5a6/.local/lib/python2.7/site-packages (from plotly)\nRequirement already satisfied: six in /usr/local/src/bluemix_jupyter_bundle.v51/notebook/lib/python2.7/site-packages (from plotly)\nRequirement already satisfied: jupyter-core in /usr/local/src/bluemix_jupyter_bundle.v51/notebook/lib/python2.7/site-packages (from nbformat>=4.2->plotly)\nRequirement already satisfied: jsonschema!=2.5.0,>=2.4 in /usr/local/src/bluemix_jupyter_bundle.v51/notebook/lib/python2.7/site-packages (from nbformat>=4.2->plotly)\nRequirement already satisfied: traitlets>=4.1 in /usr/local/src/bluemix_jupyter_bundle.v51/notebook/lib/python2.7/site-packages (from nbformat>=4.2->plotly)\nRequirement already satisfied: ipython-genutils in /usr/local/src/bluemix_jupyter_bundle.v51/notebook/lib/python2.7/site-packages (from nbformat>=4.2->plotly)\nRequirement already satisfied: idna<2.6,>=2.5 in /gpfs/global_fs01/sym_shared/YPProdSpark/user/s7a2-2d146d758efeca-882a84bec5a6/.local/lib/python2.7/site-packages (from requests->plotly)\nRequirement already satisfied: urllib3<1.22,>=1.21.1 in /gpfs/global_fs01/sym_shared/YPProdSpark/user/s7a2-2d146d758efeca-882a84bec5a6/.local/lib/python2.7/site-packages (from requests->plotly)\nRequirement already satisfied: chardet<3.1.0,>=3.0.2 in /gpfs/global_fs01/sym_shared/YPProdSpark/user/s7a2-2d146d758efeca-882a84bec5a6/.local/lib/python2.7/site-packages (from requests->plotly)\nRequirement already satisfied: certifi>=2017.4.17 in /gpfs/global_fs01/sym_shared/YPProdSpark/user/s7a2-2d146d758efeca-882a84bec5a6/.local/lib/python2.7/site-packages (from requests->plotly)\nRequirement already satisfied: functools32; python_version == \"2.7\" in /usr/local/src/bluemix_jupyter_bundle.v51/notebook/lib/python2.7/site-packages (from jsonschema!=2.5.0,>=2.4->nbformat>=4.2->plotly)\nBuilding wheels for collected packages: plotly\n  Running setup.py bdist_wheel for plotly ... \u001b[?25ldone\n\u001b[?25h  Stored in directory: /gpfs/fs01/user/s7a2-2d146d758efeca-882a84bec5a6/.cache/pip/wheels/f2/03/c4/c588dd5fd82f7238a463f78843910e0da4db75ed1baf7181a4\nSuccessfully built plotly\nInstalling collected packages: plotly\nSuccessfully installed plotly-2.0.12\nCollecting cufflinks\n  Downloading cufflinks-0.12.0.tar.gz (48kB)\n\u001b[K    100% |\u2588\u2588\u2588\u2588\u2588\u2588\u2588\u2588\u2588\u2588\u2588\u2588\u2588\u2588\u2588\u2588\u2588\u2588\u2588\u2588\u2588\u2588\u2588\u2588\u2588\u2588\u2588\u2588\u2588\u2588\u2588\u2588| 51kB 5.3MB/s eta 0:00:01\n\u001b[?25hRequirement already satisfied: pandas in /usr/local/src/bluemix_jupyter_bundle.v51/notebook/lib/python2.7/site-packages (from cufflinks)\nRequirement already satisfied: plotly>=2.0.0 in /gpfs/global_fs01/sym_shared/YPProdSpark/user/s7a2-2d146d758efeca-882a84bec5a6/.local/lib/python2.7/site-packages (from cufflinks)\nCollecting colorlover>=0.2 (from cufflinks)\n  Downloading colorlover-0.2.1.tar.gz\nRequirement already satisfied: python-dateutil in /gpfs/global_fs01/sym_shared/YPProdSpark/user/s7a2-2d146d758efeca-882a84bec5a6/.local/lib/python2.7/site-packages (from pandas->cufflinks)\nRequirement already satisfied: pytz>=2011k in /usr/local/src/bluemix_jupyter_bundle.v51/notebook/lib/python2.7/site-packages (from pandas->cufflinks)\nRequirement already satisfied: numpy>=1.7.0 in /gpfs/global_fs01/sym_shared/YPProdSpark/user/s7a2-2d146d758efeca-882a84bec5a6/.local/lib/python2.7/site-packages (from pandas->cufflinks)\nRequirement already satisfied: decorator>=4.0.6 in /usr/local/src/bluemix_jupyter_bundle.v51/notebook/lib/python2.7/site-packages (from plotly>=2.0.0->cufflinks)\nRequirement already satisfied: requests in /gpfs/global_fs01/sym_shared/YPProdSpark/user/s7a2-2d146d758efeca-882a84bec5a6/.local/lib/python2.7/site-packages (from plotly>=2.0.0->cufflinks)\nRequirement already satisfied: six in /usr/local/src/bluemix_jupyter_bundle.v51/notebook/lib/python2.7/site-packages (from plotly>=2.0.0->cufflinks)\nRequirement already satisfied: nbformat>=4.2 in /usr/local/src/bluemix_jupyter_bundle.v51/notebook/lib/python2.7/site-packages (from plotly>=2.0.0->cufflinks)\nRequirement already satisfied: idna<2.6,>=2.5 in /gpfs/global_fs01/sym_shared/YPProdSpark/user/s7a2-2d146d758efeca-882a84bec5a6/.local/lib/python2.7/site-packages (from requests->plotly>=2.0.0->cufflinks)\nRequirement already satisfied: urllib3<1.22,>=1.21.1 in /gpfs/global_fs01/sym_shared/YPProdSpark/user/s7a2-2d146d758efeca-882a84bec5a6/.local/lib/python2.7/site-packages (from requests->plotly>=2.0.0->cufflinks)\nRequirement already satisfied: chardet<3.1.0,>=3.0.2 in /gpfs/global_fs01/sym_shared/YPProdSpark/user/s7a2-2d146d758efeca-882a84bec5a6/.local/lib/python2.7/site-packages (from requests->plotly>=2.0.0->cufflinks)\nRequirement already satisfied: certifi>=2017.4.17 in /gpfs/global_fs01/sym_shared/YPProdSpark/user/s7a2-2d146d758efeca-882a84bec5a6/.local/lib/python2.7/site-packages (from requests->plotly>=2.0.0->cufflinks)\nRequirement already satisfied: jupyter-core in /usr/local/src/bluemix_jupyter_bundle.v51/notebook/lib/python2.7/site-packages (from nbformat>=4.2->plotly>=2.0.0->cufflinks)\nRequirement already satisfied: jsonschema!=2.5.0,>=2.4 in /usr/local/src/bluemix_jupyter_bundle.v51/notebook/lib/python2.7/site-packages (from nbformat>=4.2->plotly>=2.0.0->cufflinks)\nRequirement already satisfied: traitlets>=4.1 in /usr/local/src/bluemix_jupyter_bundle.v51/notebook/lib/python2.7/site-packages (from nbformat>=4.2->plotly>=2.0.0->cufflinks)\nRequirement already satisfied: ipython-genutils in /usr/local/src/bluemix_jupyter_bundle.v51/notebook/lib/python2.7/site-packages (from nbformat>=4.2->plotly>=2.0.0->cufflinks)\nRequirement already satisfied: functools32; python_version == \"2.7\" in /usr/local/src/bluemix_jupyter_bundle.v51/notebook/lib/python2.7/site-packages (from jsonschema!=2.5.0,>=2.4->nbformat>=4.2->plotly>=2.0.0->cufflinks)\nBuilding wheels for collected packages: cufflinks, colorlover\n  Running setup.py bdist_wheel for cufflinks ... \u001b[?25ldone\n\u001b[?25h  Stored in directory: /gpfs/fs01/user/s7a2-2d146d758efeca-882a84bec5a6/.cache/pip/wheels/1d/79/29/bb076c9ab0bd7a932c33e7b6c7eb5d00d84001076f16549ec0\n  Running setup.py bdist_wheel for colorlover ... \u001b[?25ldone\n\u001b[?25h  Stored in directory: /gpfs/fs01/user/s7a2-2d146d758efeca-882a84bec5a6/.cache/pip/wheels/b8/b0/18/76d3f3088cc73950ed1aa44ea074b93ed37309fea57dec78dc\nSuccessfully built cufflinks colorlover\nInstalling collected packages: colorlover, cufflinks\nSuccessfully installed colorlover-0.2.1 cufflinks-0.12.0\n"
                }
            ], 
            "source": "!pip install plotly --user \n!pip install cufflinks --user"
        }, 
        {
            "cell_type": "code", 
            "execution_count": 44, 
            "metadata": {}, 
            "outputs": [
                {
                    "data": {
                        "text/html": "<script>requirejs.config({paths: { 'plotly': ['https://cdn.plot.ly/plotly-latest.min']},});if(!window.Plotly) {{require(['plotly'],function(plotly) {window.Plotly=plotly;});}}</script>", 
                        "text/vnd.plotly.v1+html": "<script>requirejs.config({paths: { 'plotly': ['https://cdn.plot.ly/plotly-latest.min']},});if(!window.Plotly) {{require(['plotly'],function(plotly) {window.Plotly=plotly;});}}</script>"
                    }, 
                    "metadata": {}, 
                    "output_type": "display_data"
                }
            ], 
            "source": "import sys\nimport pandas\nimport plotly.plotly as py\nfrom plotly.offline import download_plotlyjs, init_notebook_mode, plot, iplot\nimport cufflinks as cf\nimport plotly.graph_objs as go\ninit_notebook_mode(connected=True)\nsys.path.append(\"\".join([os.environ[\"HOME\"]])) "
        }, 
        {
            "cell_type": "markdown", 
            "metadata": {}, 
            "source": "Convert the Apache Spark DataFrame to a Pandas DataFrame."
        }, 
        {
            "cell_type": "code", 
            "execution_count": 45, 
            "metadata": {}, 
            "outputs": [], 
            "source": "predictions_pdf = predictions.select(\"prediction\", \"predictedLabel\", \"GENDER\", \"AGE\", \"PROFESSION\", \"MARITAL_STATUS\").toPandas()"
        }, 
        {
            "cell_type": "markdown", 
            "metadata": {}, 
            "source": "Plot a pie chart that shows the predicted product-line interest."
        }, 
        {
            "cell_type": "code", 
            "execution_count": 46, 
            "metadata": {}, 
            "outputs": [
                {
                    "data": {
                        "text/html": "<div id=\"74ad5e37-b6fa-460e-bbe4-6da3299e2db2\" style=\"height: 525px; width: 100%;\" class=\"plotly-graph-div\"></div><script type=\"text/javascript\">require([\"plotly\"], function(Plotly) { window.PLOTLYENV=window.PLOTLYENV || {};window.PLOTLYENV.BASE_URL=\"https://plot.ly\";Plotly.newPlot(\"74ad5e37-b6fa-460e-bbe4-6da3299e2db2\", [{\"type\": \"pie\", \"labels\": [\"Camping Equipment\", \"Golf Equipment\", \"Mountaineering Equipment\", \"Personal Accessories\"], \"values\": [717, 61, 75, 363]}], {\"title\": \"Predicted product line client interest distribution\"}, {\"linkText\": \"Export to plot.ly\", \"showLink\": true})});</script>", 
                        "application/vnd.plotly.v1+json": {
                            "data": [
                                {
                                    "type": "pie", 
                                    "labels": [
                                        "Camping Equipment", 
                                        "Golf Equipment", 
                                        "Mountaineering Equipment", 
                                        "Personal Accessories"
                                    ], 
                                    "values": [
                                        717, 
                                        61, 
                                        75, 
                                        363
                                    ]
                                }
                            ], 
                            "layout": {
                                "title": "Predicted product line client interest distribution"
                            }
                        }, 
                        "text/vnd.plotly.v1+html": "<div id=\"74ad5e37-b6fa-460e-bbe4-6da3299e2db2\" style=\"height: 525px; width: 100%;\" class=\"plotly-graph-div\"></div><script type=\"text/javascript\">require([\"plotly\"], function(Plotly) { window.PLOTLYENV=window.PLOTLYENV || {};window.PLOTLYENV.BASE_URL=\"https://plot.ly\";Plotly.newPlot(\"74ad5e37-b6fa-460e-bbe4-6da3299e2db2\", [{\"type\": \"pie\", \"labels\": [\"Camping Equipment\", \"Golf Equipment\", \"Mountaineering Equipment\", \"Personal Accessories\"], \"values\": [717, 61, 75, 363]}], {\"title\": \"Predicted product line client interest distribution\"}, {\"linkText\": \"Export to plot.ly\", \"showLink\": true})});</script>"
                    }, 
                    "metadata": {}, 
                    "output_type": "display_data"
                }
            ], 
            "source": "cumulative_stats = predictions_pdf.groupby(['predictedLabel']).count()\n\nproduct_data = [go.Pie(\n            labels=cumulative_stats.index,\n            values=cumulative_stats['GENDER'],\n    )]\n\nproduct_layout = go.Layout(\n    title='Predicted product line client interest distribution',\n)\n\nfig = go.Figure(data=product_data, layout=product_layout)\niplot(fig)"
        }, 
        {
            "cell_type": "markdown", 
            "metadata": {}, 
            "source": "With this data set, you might want to do some analysis of the mean AGE per product line by using a bar chart."
        }, 
        {
            "cell_type": "code", 
            "execution_count": 47, 
            "metadata": {}, 
            "outputs": [
                {
                    "data": {
                        "text/html": "<div id=\"a3fd352c-4948-4b57-a2a1-89b0e9400ab4\" style=\"height: 525px; width: 100%;\" class=\"plotly-graph-div\"></div><script type=\"text/javascript\">require([\"plotly\"], function(Plotly) { window.PLOTLYENV=window.PLOTLYENV || {};window.PLOTLYENV.BASE_URL=\"https://plot.ly\";Plotly.newPlot(\"a3fd352c-4948-4b57-a2a1-89b0e9400ab4\", [{\"y\": [32.94002789400279, 49.83606557377049, 36.053333333333335, 32.8099173553719], \"x\": [\"Camping Equipment\", \"Golf Equipment\", \"Mountaineering Equipment\", \"Personal Accessories\"], \"type\": \"bar\"}], {\"title\": \"Mean AGE per predicted product line\", \"xaxis\": {\"showline\": false, \"title\": \"Product Line\"}, \"yaxis\": {\"title\": \"Mean AGE\"}}, {\"linkText\": \"Export to plot.ly\", \"showLink\": true})});</script>", 
                        "application/vnd.plotly.v1+json": {
                            "data": [
                                {
                                    "type": "bar", 
                                    "x": [
                                        "Camping Equipment", 
                                        "Golf Equipment", 
                                        "Mountaineering Equipment", 
                                        "Personal Accessories"
                                    ], 
                                    "y": [
                                        32.94002789400279, 
                                        49.83606557377049, 
                                        36.053333333333335, 
                                        32.8099173553719
                                    ]
                                }
                            ], 
                            "layout": {
                                "yaxis": {
                                    "title": "Mean AGE"
                                }, 
                                "xaxis": {
                                    "showline": false, 
                                    "title": "Product Line"
                                }, 
                                "title": "Mean AGE per predicted product line"
                            }
                        }, 
                        "text/vnd.plotly.v1+html": "<div id=\"a3fd352c-4948-4b57-a2a1-89b0e9400ab4\" style=\"height: 525px; width: 100%;\" class=\"plotly-graph-div\"></div><script type=\"text/javascript\">require([\"plotly\"], function(Plotly) { window.PLOTLYENV=window.PLOTLYENV || {};window.PLOTLYENV.BASE_URL=\"https://plot.ly\";Plotly.newPlot(\"a3fd352c-4948-4b57-a2a1-89b0e9400ab4\", [{\"y\": [32.94002789400279, 49.83606557377049, 36.053333333333335, 32.8099173553719], \"x\": [\"Camping Equipment\", \"Golf Equipment\", \"Mountaineering Equipment\", \"Personal Accessories\"], \"type\": \"bar\"}], {\"title\": \"Mean AGE per predicted product line\", \"xaxis\": {\"showline\": false, \"title\": \"Product Line\"}, \"yaxis\": {\"title\": \"Mean AGE\"}}, {\"linkText\": \"Export to plot.ly\", \"showLink\": true})});</script>"
                    }, 
                    "metadata": {}, 
                    "output_type": "display_data"
                }
            ], 
            "source": "age_data = [go.Bar(\n            y=predictions_pdf.groupby(['predictedLabel']).mean()[\"AGE\"],\n            x=cumulative_stats.index\n            \n    )]\n\nage_layout = go.Layout(\n    title='Mean AGE per predicted product line',\n    xaxis=dict(\n        title = \"Product Line\",\n        showline=False,),\n    yaxis=dict(\n        title = \"Mean AGE\",\n        ),\n)\n\nfig = go.Figure(data=age_data, layout=age_layout)\niplot(fig)"
        }, 
        {
            "cell_type": "markdown", 
            "metadata": {}, 
            "source": "Based on bar plot you created, you might make the following conclusion: The mean age for clients that are interested in golf equipment is predicted to be over 50 years old."
        }, 
        {
            "cell_type": "markdown", 
            "metadata": {}, 
            "source": "<a id=\"scoring\"></a>\n## 6. Deploy and score in a Cloud"
        }, 
        {
            "cell_type": "markdown", 
            "metadata": {}, 
            "source": "In this section you will learn how to create online scoring and to score a new data record by using the Watson Machine Learning REST API. \nFor more information about REST APIs, see the [Watson Machine Learning API Documentation](http://watson-ml-api.mybluemix.net/)."
        }, 
        {
            "cell_type": "markdown", 
            "metadata": {
                "collapsed": true
            }, 
            "source": "To work with the Watson Machine Leraning REST API, generate an access token:"
        }, 
        {
            "cell_type": "code", 
            "execution_count": 54, 
            "metadata": {}, 
            "outputs": [], 
            "source": "import urllib3, requests, json\n\nheaders = urllib3.util.make_headers(basic_auth='{}:{}'.format(username, password))\nurl = '{}/v2/identity/token'.format(service_path)\nresponse = requests.get(url, headers=headers)\nmltoken = json.loads(response.text).get('token')"
        }, 
        {
            "cell_type": "markdown", 
            "metadata": {}, 
            "source": "### 6.1: Create an online scoring endpoint"
        }, 
        {
            "cell_type": "markdown", 
            "metadata": {}, 
            "source": "Now you can create an online scoring endpoint. Execute the following sample code that uses the **modelVersionHref** value to create the scoring endpoint to the Bluemix repository."
        }, 
        {
            "cell_type": "code", 
            "execution_count": 57, 
            "metadata": {}, 
            "outputs": [
                {
                    "name": "stdout", 
                    "output_type": "stream", 
                    "text": "<Response [402]>\n{\"code\":1009,\"message\":\"Reached the maximum deployment limit.\"}\n"
                }, 
                {
                    "output_type": "error", 
                    "traceback": [
                        "\u001b[0;31m\u001b[0m", 
                        "\u001b[0;31mAttributeError\u001b[0mTraceback (most recent call last)", 
                        "\u001b[0;32m<ipython-input-57-4b34b0349268>\u001b[0m in \u001b[0;36m<module>\u001b[0;34m()\u001b[0m\n\u001b[1;32m      8\u001b[0m \u001b[0;32mprint\u001b[0m \u001b[0mresponse_online\u001b[0m\u001b[0;34m.\u001b[0m\u001b[0mtext\u001b[0m\u001b[0;34m\u001b[0m\u001b[0m\n\u001b[1;32m      9\u001b[0m \u001b[0;34m\u001b[0m\u001b[0m\n\u001b[0;32m---> 10\u001b[0;31m \u001b[0mscoring_href\u001b[0m \u001b[0;34m=\u001b[0m \u001b[0mjson\u001b[0m\u001b[0;34m.\u001b[0m\u001b[0mloads\u001b[0m\u001b[0;34m(\u001b[0m\u001b[0mresponse_online\u001b[0m\u001b[0;34m.\u001b[0m\u001b[0mtext\u001b[0m\u001b[0;34m)\u001b[0m\u001b[0;34m.\u001b[0m\u001b[0mget\u001b[0m\u001b[0;34m(\u001b[0m\u001b[0;34m'entity'\u001b[0m\u001b[0;34m)\u001b[0m\u001b[0;34m.\u001b[0m\u001b[0mget\u001b[0m\u001b[0;34m(\u001b[0m\u001b[0;34m'scoringHref'\u001b[0m\u001b[0;34m)\u001b[0m\u001b[0;34m\u001b[0m\u001b[0m\n\u001b[0m\u001b[1;32m     11\u001b[0m \u001b[0;32mprint\u001b[0m \u001b[0mscoring_href\u001b[0m\u001b[0;34m\u001b[0m\u001b[0m\n", 
                        "\u001b[0;31mAttributeError\u001b[0m: 'NoneType' object has no attribute 'get'"
                    ], 
                    "ename": "AttributeError", 
                    "evalue": "'NoneType' object has no attribute 'get'"
                }
            ], 
            "source": "endpoint_online = service_path + \"/v2/online/deployments/\"\nheader_online = {'Content-Type': 'application/json', 'Authorization': mltoken}\npayload_online = {\"artifactVersionHref\": saved_model.meta.prop(\"modelVersionHref\"), \"name\": \"Product Line Prediction\"}\n\nresponse_online = requests.post(endpoint_online, json=payload_online, headers=header_online)\n\nprint response_online\nprint response_online.text\n\nscoring_href = json.loads(response_online.text).get('entity').get('scoringHref')\nprint scoring_href"
        }, 
        {
            "cell_type": "markdown", 
            "metadata": {}, 
            "source": "Send (PUT) new scoring records (new data) for which you would like to get predictions:"
        }, 
        {
            "cell_type": "code", 
            "execution_count": 56, 
            "metadata": {}, 
            "outputs": [
                {
                    "name": "stdout", 
                    "output_type": "stream", 
                    "text": "<html>\r\n<head><title>502 Bad Gateway</title></head>\r\n<body bgcolor=\"white\">\r\n<center><h1>502 Bad Gateway</h1></center>\r\n<hr><center>nginx/1.10.1</center>\r\n</body>\r\n</html>\r\n\n"
                }
            ], 
            "source": "payload_scoring = {\"record\":[\"M\", 23, \"Single\", \"Student\"]}\nresponse_scoring = requests.put(scoring_href, json=payload_scoring, headers=header_online)\n\nprint response_scoring.text"
        }, 
        {
            "cell_type": "markdown", 
            "metadata": {}, 
            "source": "The prediction is that a 23-year-old male student is interested in personal accessories (predictedLabel: Personal Accessories, prediction: 1.0)."
        }, 
        {
            "cell_type": "markdown", 
            "metadata": {
                "collapsed": true
            }, 
            "source": "<a id=\"summary\"></a>\n## 7. Summary and next steps     "
        }, 
        {
            "cell_type": "markdown", 
            "metadata": {
                "collapsed": true
            }, 
            "source": " You successfully completed this notebook! You learned how to use Apache Spark machine learning as well as Watson Machine Learning for model creation and deployment. Check out our _[Online Documentation](https://apsportal.ibm.com/docs/content/getting-started/get-started.html)_ for more samples, tutorials, documentation, how-tos, and blog posts. "
        }, 
        {
            "cell_type": "markdown", 
            "metadata": {}, 
            "source": "### Authors\n\n**Lukasz Cmielowski**, PhD, is a Automation Architect and Data Scientist in IBM with a track record of developing enterprise-level applications that substantially increases clients' ability to turn data into actionable knowledge."
        }, 
        {
            "cell_type": "markdown", 
            "metadata": {}, 
            "source": "Copyright \u00a9 2017 IBM. This notebook and its source code are released under the terms of the MIT License."
        }
    ], 
    "metadata": {
        "kernelspec": {
            "display_name": "Python 2 with Spark 2.0", 
            "language": "python", 
            "name": "python2-spark20"
        }, 
        "language_info": {
            "version": "2.7.11", 
            "nbconvert_exporter": "python", 
            "mimetype": "text/x-python", 
            "file_extension": ".py", 
            "codemirror_mode": {
                "version": 2, 
                "name": "ipython"
            }, 
            "pygments_lexer": "ipython2", 
            "name": "python"
        }
    }, 
    "nbformat_minor": 1
}