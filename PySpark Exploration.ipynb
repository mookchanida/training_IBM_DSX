{
    "nbformat": 4, 
    "cells": [
        {
            "cell_type": "code", 
            "execution_count": null, 
            "metadata": {
                "collapsed": true
            }, 
            "outputs": [], 
            "source": ""
        }
    ], 
    "metadata": {
        "kernelspec": {
            "language": "python", 
            "name": "python2-spark21"
        }
    }, 
    "nbformat_minor": 0
}