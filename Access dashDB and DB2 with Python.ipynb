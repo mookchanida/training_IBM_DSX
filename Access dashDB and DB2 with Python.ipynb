{
    "metadata": {
        "language_info": {
            "name": "python", 
            "file_extension": ".py", 
            "pygments_lexer": "ipython2", 
            "nbconvert_exporter": "python", 
            "mimetype": "text/x-python", 
            "codemirror_mode": {
                "name": "ipython", 
                "version": 2
            }, 
            "version": "2.7.11"
        }, 
        "kernelspec": {
            "name": "python2-spark20", 
            "language": "python", 
            "display_name": "Python 2 with Spark 2.0"
        }
    }, 
    "nbformat": 4, 
    "nbformat_minor": 1, 
    "cells": [
        {
            "source": "# Access dashDB and DB2 with Python\n\nThis notebook shows how to access a dashDB data warehouse or DB2 database when using Python. The examples use a dashDB warehouse, but the instructions apply to both dashDB and DB2.\n\n## Table of contents\n\n1. [Setup](#Setup) \n1. [Import the *ibmdbpy* Python library](#Import-the-ibmdbpy-Python-library)\n1. [Identify and enter the database connection credentials](#Identify-and-enter-the-database-connection-credentials)\n1. [Create the database connection](#Create-the-database-connection)\n1. [Use dataframe to read and manipulate tables](#Use-dataframe-to-read-and-manipulate-tables)\n1. [Close the database connection](#Close-the-database-connection)\n1. [Summary](#Summary)\n\n\n## Setup\n\nBefore beginning you will need a *dashDB* warehouse. dashDB is a fully managed cloud data warehouse, purpose-built for analytics. It offers massively parallel processing (MPP) scale and compatibility with a wide range of business intelligence (BI) tools.  \n\n[Try dashDB free of charge on IBM Bluemix.](https://console.ng.bluemix.net/catalog/services/dashdb)\n\n<a class=\"ibm-tooltip\" href=\"https://console.ng.bluemix.net/catalog/services/dashdb\" target=\"_blank\" title=\"\" id=\"ibm-tooltip-0\">\n<img alt=\"IBM Bluemix.Get started now\" height=\"193\" width=\"153\" src=\"https://ibm.box.com/shared/static/42yt39czuksqdi278xpy96txtlw3lfmb.png\" >\n</a>\n\n\n\n\n\n## Import the *ibmdbpy* Python library\n\nPython support for dashDB and DB2 is provided by the [ibmdbpy Python library](https://pypi.python.org/pypi/ibmdbpy). Connecting to dashDB or DB2 is also enabled by a DB2 driver, libdb2.so.\n\nThe JDBC Connection is based on a Java virtual machine. From the ibmdbpy library you can use JDBC to connect to a remote dashDB/DB2 instance. To be able to use JDBC to connect, we need to import the *JayDeBeApi* package.\n\nRun the following commands to install and load the JayDeBeApi package and the ibmdbpy library into your notebook:", 
            "metadata": {}, 
            "cell_type": "markdown"
        }, 
        {
            "metadata": {}, 
            "source": "!pip install jaydebeapi --user  \n!pip install ibmdbpy --user ", 
            "outputs": [
                {
                    "name": "stdout", 
                    "output_type": "stream", 
                    "text": "Requirement already satisfied: jaydebeapi in /usr/local/src/bluemix_jupyter_bundle.v46/notebook/lib/python2.7/site-packages\nRequirement already satisfied: JPype1 in /usr/local/src/bluemix_jupyter_bundle.v46/notebook/lib/python2.7/site-packages (from jaydebeapi)\nRequirement already satisfied: ibmdbpy in /usr/local/src/bluemix_jupyter_bundle.v46/notebook/lib/python2.7/site-packages\nRequirement already satisfied: future in /usr/local/src/bluemix_jupyter_bundle.v46/notebook/lib/python2.7/site-packages (from ibmdbpy)\nRequirement already satisfied: pandas in /usr/local/src/bluemix_jupyter_bundle.v46/notebook/lib/python2.7/site-packages (from ibmdbpy)\nRequirement already satisfied: numpy in /usr/local/src/bluemix_jupyter_bundle.v46/notebook/lib/python2.7/site-packages (from ibmdbpy)\nRequirement already satisfied: pypyodbc in /usr/local/src/bluemix_jupyter_bundle.v46/notebook/lib/python2.7/site-packages (from ibmdbpy)\nRequirement already satisfied: lazy in /usr/local/src/bluemix_jupyter_bundle.v46/notebook/lib/python2.7/site-packages (from ibmdbpy)\nRequirement already satisfied: six in /usr/local/src/bluemix_jupyter_bundle.v46/notebook/lib/python2.7/site-packages (from ibmdbpy)\nRequirement already satisfied: python-dateutil in /usr/local/src/bluemix_jupyter_bundle.v46/notebook/lib/python2.7/site-packages (from pandas->ibmdbpy)\nRequirement already satisfied: pytz>=2011k in /usr/local/src/bluemix_jupyter_bundle.v46/notebook/lib/python2.7/site-packages (from pandas->ibmdbpy)\nRequirement already satisfied: setuptools in /usr/local/src/bluemix_jupyter_bundle.v46/notebook/lib/python2.7/site-packages (from pypyodbc->ibmdbpy)\nRequirement already satisfied: appdirs>=1.4.0 in /usr/local/src/bluemix_jupyter_bundle.v46/notebook/lib/python2.7/site-packages (from setuptools->pypyodbc->ibmdbpy)\nRequirement already satisfied: packaging>=16.8 in /usr/local/src/bluemix_jupyter_bundle.v46/notebook/lib/python2.7/site-packages (from setuptools->pypyodbc->ibmdbpy)\nRequirement already satisfied: pyparsing in /usr/local/src/bluemix_jupyter_bundle.v46/notebook/lib/python2.7/site-packages (from packaging>=16.8->setuptools->pypyodbc->ibmdbpy)\n"
                }
            ], 
            "execution_count": 1, 
            "cell_type": "code"
        }, 
        {
            "metadata": {
                "collapsed": true
            }, 
            "source": "import jaydebeapi\nfrom ibmdbpy import IdaDataBase\nfrom ibmdbpy import IdaDataFrame", 
            "outputs": [], 
            "execution_count": 2, 
            "cell_type": "code"
        }, 
        {
            "metadata": {
                "collapsed": true
            }, 
            "source": "import os\nos.environ['CLASSPATH'] = \"/usr/local/src/data-connectors-1.4.1/db2jcc4-10.5.0.6.jar\"", 
            "outputs": [], 
            "execution_count": 3, 
            "cell_type": "code"
        }, 
        {
            "metadata": {
                "collapsed": true
            }, 
            "source": "import jpype\nargs='-Djava.class.path=%s' % os.environ['CLASSPATH']\njvm = jpype.getDefaultJVMPath()\njpype.startJVM(jvm, args)", 
            "outputs": [], 
            "execution_count": 4, 
            "cell_type": "code"
        }, 
        {
            "source": "\n## Identify and enter the database connection credentials\n\nConnecting to dashDB or a DB2 database requires the following information:\n* Database name \n* Host DNS name or IP address \n* Host port\n* Connection protocol\n* User ID\n* User password\n\nAll of this information must be captured in a connection string in a subsequent step. Provide the dashDB or DB2 connection information as shown:", 
            "metadata": {}, 
            "cell_type": "markdown"
        }, 
        {
            "metadata": {}, 
            "source": "dsn_uid = \"dash23963\";  # e.g.  dash104434\ndsn_pwd = \"l2tSxu7C$#CQ\"   # e.g. xxxx\ndsn_hostname =\"dashdb-entry-yp-syd01-01.services.au-syd.bluemix.net\"  # e.g.  awh-yp-small03.services.dal.bluemix.net\ndsn_port = \"50000\"   # e.g.  50001\ndsn_database = \"BLUDB\"   # e.g. BLUDB ", 
            "outputs": [], 
            "execution_count": 5, 
            "cell_type": "code"
        }, 
        {
            "source": "## Create the database connection\n\nThe following code snippet creates a connection string `connection_string`\nand uses the `connection_string` to create a DB2 connection object:\n", 
            "metadata": {}, 
            "cell_type": "markdown"
        }, 
        {
            "metadata": {}, 
            "source": "connection_string='jdbc:db2://'+dsn_hostname+':'+dsn_port+'/'+dsn_database+':user='+dsn_uid+';password='+dsn_pwd+\";\" \nidadb=IdaDataBase(dsn=connection_string)", 
            "outputs": [], 
            "execution_count": 6, 
            "cell_type": "code"
        }, 
        {
            "source": "## Use dataframe to read and manipulate tables\n\nYou can now use the connection object `conn` to query the database:", 
            "metadata": {}, 
            "cell_type": "markdown"
        }, 
        {
            "metadata": {}, 
            "source": "df=idadb.show_tables(show_all = True)\ndf.head(5)", 
            "outputs": [
                {
                    "output_type": "execute_result", 
                    "execution_count": 17, 
                    "metadata": {}, 
                    "data": {
                        "text/plain": "   TABSCHEMA          TABNAME      OWNER TYPE\n0  DASH23963          MYTABLE  DASH23963    T\n1  DASH23963      RANDOM_DATA  DASH23963    T\n2    GOSALES           BRANCH   DB2INST1    T\n3    GOSALES  CONVERSION_RATE   DB2INST1    T\n4    GOSALES          COUNTRY   DB2INST1    T", 
                        "text/html": "<div>\n<table border=\"1\" class=\"dataframe\">\n  <thead>\n    <tr style=\"text-align: right;\">\n      <th></th>\n      <th>TABSCHEMA</th>\n      <th>TABNAME</th>\n      <th>OWNER</th>\n      <th>TYPE</th>\n    </tr>\n  </thead>\n  <tbody>\n    <tr>\n      <th>0</th>\n      <td>DASH23963</td>\n      <td>MYTABLE</td>\n      <td>DASH23963</td>\n      <td>T</td>\n    </tr>\n    <tr>\n      <th>1</th>\n      <td>DASH23963</td>\n      <td>RANDOM_DATA</td>\n      <td>DASH23963</td>\n      <td>T</td>\n    </tr>\n    <tr>\n      <th>2</th>\n      <td>GOSALES</td>\n      <td>BRANCH</td>\n      <td>DB2INST1</td>\n      <td>T</td>\n    </tr>\n    <tr>\n      <th>3</th>\n      <td>GOSALES</td>\n      <td>CONVERSION_RATE</td>\n      <td>DB2INST1</td>\n      <td>T</td>\n    </tr>\n    <tr>\n      <th>4</th>\n      <td>GOSALES</td>\n      <td>COUNTRY</td>\n      <td>DB2INST1</td>\n      <td>T</td>\n    </tr>\n  </tbody>\n</table>\n</div>"
                    }
                }
            ], 
            "execution_count": 17, 
            "cell_type": "code"
        }, 
        {
            "metadata": {}, 
            "source": "idadb.exists_table_or_view('DASH23963.MYTABLE')", 
            "outputs": [
                {
                    "output_type": "execute_result", 
                    "execution_count": 18, 
                    "metadata": {}, 
                    "data": {
                        "text/plain": "True"
                    }
                }
            ], 
            "execution_count": 18, 
            "cell_type": "code"
        }, 
        {
            "source": "Using our previously opened IdaDataBase instance named \u2018idadb\u2019, we can open one or several IdaDataFrame objects. They behave like pointers to remote tables.\n\nLet us open the *EMP_EXPENSE_FACT* data set, assuming it is stored in the database under the name \u2018GOSALESDW.EMP_EXPENSE_FACT\u2019. The following cell assigns the dataset to a pandas DataFrame.\n\nThe [Pandas data analysis library](http://pandas.pydata.org/) provides high-performance, easy-to-use data structures and data analysis tools for the Python programming language. Pandas allows easy processing and manipulation of tabular data, so it is a perfect fit for data extracted from relational databases.\n", 
            "metadata": {}, 
            "cell_type": "markdown"
        }, 
        {
            "metadata": {
                "collapsed": true
            }, 
            "source": "idadf = IdaDataFrame(idadb, 'DASH23963.MYTABLE')", 
            "outputs": [], 
            "execution_count": 19, 
            "cell_type": "code"
        }, 
        {
            "source": "You can very easily explore the data in the IdaDataFrame by using built in functions.\n\nUse IdaDataFrame.head to get the first n records of your data set (default 5):", 
            "metadata": {}, 
            "cell_type": "markdown"
        }, 
        {
            "metadata": {}, 
            "source": "idadf.head(5)", 
            "outputs": [
                {
                    "output_type": "execute_result", 
                    "execution_count": 20, 
                    "metadata": {}, 
                    "data": {
                        "text/plain": "   COL1 COL2\n0     1    2\n1     4    5\n2     7    8", 
                        "text/html": "<div>\n<table border=\"1\" class=\"dataframe\">\n  <thead>\n    <tr style=\"text-align: right;\">\n      <th></th>\n      <th>COL1</th>\n      <th>COL2</th>\n    </tr>\n  </thead>\n  <tbody>\n    <tr>\n      <th>0</th>\n      <td>1</td>\n      <td>2</td>\n    </tr>\n    <tr>\n      <th>1</th>\n      <td>4</td>\n      <td>5</td>\n    </tr>\n    <tr>\n      <th>2</th>\n      <td>7</td>\n      <td>8</td>\n    </tr>\n  </tbody>\n</table>\n</div>"
                    }
                }
            ], 
            "execution_count": 20, 
            "cell_type": "code"
        }, 
        {
            "source": "Use IdaDataFrame.tail to get the last n records of your data set (default 5):", 
            "metadata": {}, 
            "cell_type": "markdown"
        }, 
        {
            "metadata": {}, 
            "source": "idadf.tail(5)", 
            "outputs": [
                {
                    "output_type": "execute_result", 
                    "execution_count": 21, 
                    "metadata": {}, 
                    "data": {
                        "text/plain": "   COL1 COL2\n0     1    2\n1     4    5\n2     7    8", 
                        "text/html": "<div>\n<table border=\"1\" class=\"dataframe\">\n  <thead>\n    <tr style=\"text-align: right;\">\n      <th></th>\n      <th>COL1</th>\n      <th>COL2</th>\n    </tr>\n  </thead>\n  <tbody>\n    <tr>\n      <th>0</th>\n      <td>1</td>\n      <td>2</td>\n    </tr>\n    <tr>\n      <th>1</th>\n      <td>4</td>\n      <td>5</td>\n    </tr>\n    <tr>\n      <th>2</th>\n      <td>7</td>\n      <td>8</td>\n    </tr>\n  </tbody>\n</table>\n</div>"
                    }
                }
            ], 
            "execution_count": 21, 
            "cell_type": "code"
        }, 
        {
            "source": "__Note:__ Because dashDB operates on a distributed system, the order of rows using IdaDataFrame.head and IdaDataFrame.tail is not guaranteed unless the table is sorted (using an \u2018ORDER BY\u2019 clause) or a column is declared as index for the IdaDataFrame (parameter/attribute indexer).\n\nIdaDataFrame also implements most attributes that are available in a pandas DataFrame:", 
            "metadata": {}, 
            "cell_type": "markdown"
        }, 
        {
            "metadata": {}, 
            "source": "idadf.shape", 
            "outputs": [
                {
                    "output_type": "execute_result", 
                    "execution_count": 22, 
                    "metadata": {}, 
                    "data": {
                        "text/plain": "(3, 2)"
                    }
                }
            ], 
            "execution_count": 22, 
            "cell_type": "code"
        }, 
        {
            "metadata": {}, 
            "source": "idadf.columns", 
            "outputs": [
                {
                    "output_type": "execute_result", 
                    "execution_count": 23, 
                    "metadata": {}, 
                    "data": {
                        "text/plain": "Index([u'COL1', u'COL2'], dtype='object')"
                    }
                }
            ], 
            "execution_count": 23, 
            "cell_type": "code"
        }, 
        {
            "source": "Several standard statistics functions from the pandas interface are also available for IdaDataFrame. For example, let us calculate the covariance matrix for the iris data set:", 
            "metadata": {}, 
            "cell_type": "markdown"
        }, 
        {
            "metadata": {}, 
            "source": "# idadf.cov()", 
            "outputs": [], 
            "execution_count": 25, 
            "cell_type": "code"
        }, 
        {
            "source": "It is possible to subset the rows of an IdaDataFrame by accessing the IdaDataFrame with a slice object. You can also use the IdaDataFrame.loc attribute, which contains an ibmdbpy.Loc object. However, the row selection might be inaccurate if the current IdaDataFrame is not sorted or does not contain an indexer. This is due to the fact that dashDB stores the data across several nodes if available. Moreover, because dashDB is a column oriented database, row numbers are undefined:", 
            "metadata": {}, 
            "cell_type": "markdown"
        }, 
        {
            "metadata": {}, 
            "source": "idadf_new = idadf[0:1] # Select the first 10 rows\nidadf_new.head()", 
            "outputs": [
                {
                    "output_type": "execute_result", 
                    "execution_count": 28, 
                    "metadata": {}, 
                    "data": {
                        "text/plain": "   COL1 COL2\n0     1    2\n1     4    5", 
                        "text/html": "<div>\n<table border=\"1\" class=\"dataframe\">\n  <thead>\n    <tr style=\"text-align: right;\">\n      <th></th>\n      <th>COL1</th>\n      <th>COL2</th>\n    </tr>\n  </thead>\n  <tbody>\n    <tr>\n      <th>0</th>\n      <td>1</td>\n      <td>2</td>\n    </tr>\n    <tr>\n      <th>1</th>\n      <td>4</td>\n      <td>5</td>\n    </tr>\n  </tbody>\n</table>\n</div>"
                    }
                }
            ], 
            "execution_count": 28, 
            "cell_type": "code"
        }, 
        {
            "source": "## Close the database connection\n\nTo ensure expected behaviors, IdaDataBase instances need to be closed. Closing the *IdaDataBase* is equivalent to closing the connection: once the connection is closed, it is no longer possible to use the *IdaDataBase* instance and any IdaDataFrame instances that were opened on this connection.", 
            "metadata": {}, 
            "cell_type": "markdown"
        }, 
        {
            "metadata": {}, 
            "source": "idadb.close()", 
            "outputs": [
                {
                    "name": "stdout", 
                    "output_type": "stream", 
                    "text": "Connection closed.\n"
                }
            ], 
            "execution_count": 16, 
            "cell_type": "code"
        }, 
        {
            "source": "## Summary\n\nThis notebook demonstrated how to establish a connection to a dashDB / DB2 database from Python using the ibmdbpy library.", 
            "metadata": {}, 
            "cell_type": "markdown"
        }, 
        {
            "source": "## Want to learn more?\n### Free courses on <a href=\"https://bigdatauniversity.com/courses/?utm_source=tutorial-dashdb-python&utm_medium=github&utm_campaign=bdu/\" rel=\"noopener noreferrer\" target=\"_blank\">Big Data University</a>: <a href=\"https://bigdatauniversity.com/courses/?utm_source=tutorial-dashdb-python&utm_medium=github&utm_campaign=bdu\" rel=\"noopener noreferrer\" target=\"_blank\"><img src = \"https://ibm.box.com/shared/static/xomeu7dacwufkoawbg3owc8wzuezltn6.png\" width=600px> </a>", 
            "metadata": {}, 
            "cell_type": "markdown"
        }, 
        {
            "source": "### Authors\n\n**Saeed Aghabozorgi**, PhD, is a Data Scientist in IBM with a track record of developing enterprise-level applications that substantially increases clients' ability to turn data into actionable knowledge. He is a researcher in the data mining field and an expert in developing advanced analytic methods like machine learning and statistical modelling on large data sets.\n\n**Polong Lin** is a Data Scientist at IBM in Canada. Under the Emerging Technologies division, Polong is responsible for educating the next generation of data scientists through Big Data University. Polong is a regular speaker in conferences and meetups, and holds an M.Sc. in Cognitive Psychology.", 
            "metadata": {}, 
            "cell_type": "markdown"
        }, 
        {
            "source": "Copyright \u00a9 2016, 2017 Big Data University. This notebook and its source code are released under the terms of the <a href=\"https://bigdatauniversity.com/mit-license/\" rel=\"noopener noreferrer\" target=\"_blank\">MIT License</a>.", 
            "metadata": {}, 
            "cell_type": "markdown"
        }
    ]
}